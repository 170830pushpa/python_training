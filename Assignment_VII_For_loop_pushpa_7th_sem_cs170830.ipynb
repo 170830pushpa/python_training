{
  "nbformat": 4,
  "nbformat_minor": 0,
  "metadata": {
    "colab": {
      "name": "Assignment_VII_For_loop_pushpa_7th_sem_cs170830.ipynb",
      "provenance": [],
      "collapsed_sections": [],
      "authorship_tag": "ABX9TyMXX6sG/pPvB8CGg/uEbomx",
      "include_colab_link": true
    },
    "kernelspec": {
      "name": "python3",
      "display_name": "Python 3"
    },
    "language_info": {
      "name": "python"
    }
  },
  "cells": [
    {
      "cell_type": "markdown",
      "metadata": {
        "id": "view-in-github",
        "colab_type": "text"
      },
      "source": [
        "<a href=\"https://colab.research.google.com/github/170830pushpa/python_training/blob/main/Assignment_VII_For_loop_pushpa_7th_sem_cs170830.ipynb\" target=\"_parent\"><img src=\"https://colab.research.google.com/assets/colab-badge.svg\" alt=\"Open In Colab\"/></a>"
      ]
    },
    {
      "cell_type": "markdown",
      "metadata": {
        "id": "4ph2ifxrK-qY"
      },
      "source": [
        "                  ***Assignment-VII***"
      ]
    },
    {
      "cell_type": "markdown",
      "metadata": {
        "id": "lO-H2ekOLHCG"
      },
      "source": [
        "1) Multiply following matrices\n",
        "A=[[1 2 3] [4 5 6] [7 8 9]]\n",
        "B=[[111 22 33] [44 55 56] [47 86 19]]\n",
        "Using for loops and print the result.\n"
      ]
    },
    {
      "cell_type": "code",
      "metadata": {
        "colab": {
          "base_uri": "https://localhost:8080/"
        },
        "id": "IU52m_eIK7Jo",
        "outputId": "e7011c50-ddae-469c-a82b-aabca4122749"
      },
      "source": [
        "A=[[1,2,3],[4,5,6],[7,8,9]] \n",
        "B=[[111,22,33],[44,55 ,56],[47,86,19]]\n",
        "C=[[0,0,0],[0,0,0],[0,0,0]]\n",
        "for x in range(3):\n",
        "  for y in range(3):\n",
        "    for z in range(3):\n",
        "      C[x][y]+=A[x][z]*B[z][y]\n",
        "print(\"A*B=\")\n",
        "for i in C:\n",
        "  print(i)"
      ],
      "execution_count": 1,
      "outputs": [
        {
          "output_type": "stream",
          "text": [
            "A*B=\n",
            "[340, 390, 202]\n",
            "[946, 879, 526]\n",
            "[1552, 1368, 850]\n"
          ],
          "name": "stdout"
        }
      ]
    },
    {
      "cell_type": "markdown",
      "metadata": {
        "id": "KqwerLhQQ3M8"
      },
      "source": [
        "2) Multiply following matrices  C=[[111 22 33 44] [44 55 56 1] [47 86 19 2] [1 2 22 3]] D=[[11 22 3 4][4 5 6 1][7 6 19 2][1 2 22 3]] Using for loops and print the result."
      ]
    },
    {
      "cell_type": "code",
      "metadata": {
        "colab": {
          "base_uri": "https://localhost:8080/"
        },
        "id": "OsD9NYinQpPa",
        "outputId": "bdad7261-7022-4120-d46d-8d144ccad504"
      },
      "source": [
        "C=[[111,22,33 ,44], [44 ,55 ,56 ,1], [47 ,86, 19 ,2] ,[1, 2, 22, 3]] \n",
        "D=[[11, 22, 3, 4],[4, 5, 6, 1],[7, 6, 19, 2],[1, 2, 22, 3]]\n",
        "M=[[0,0,0,0],[0,0,0,0],[0,0,0,0],[0,0,0,0]]\n",
        "for x in range(4):\n",
        "  for y in range(4):\n",
        "    for z in range(4):\n",
        "      M[x][y]+=C[x][z]*D[z][y]\n",
        "print(\"C*D=\")\n",
        "for i in M:\n",
        "  print(i)"
      ],
      "execution_count": 2,
      "outputs": [
        {
          "output_type": "stream",
          "text": [
            "C*D=\n",
            "[1584, 2838, 2060, 664]\n",
            "[1097, 1581, 1548, 346]\n",
            "[996, 1582, 1062, 318]\n",
            "[176, 170, 499, 59]\n"
          ],
          "name": "stdout"
        }
      ]
    },
    {
      "cell_type": "markdown",
      "metadata": {
        "id": "BNcl4QVlSoi4"
      },
      "source": [
        "3) Generate the following patterns using for loop\n",
        "  a) \n",
        "  \n",
        "  \n",
        "   ![1.PNG](data:image/png;base64,iVBORw0KGgoAAAANSUhEUgAAAJ4AAADXCAYAAADr0ujfAAAAAXNSR0IArs4c6QAAAARnQU1BAACxjwv8YQUAAAAJcEhZcwAADsMAAA7DAcdvqGQAAAPOSURBVHhe7dzBTdxQAEXRtEJpUwyiFkQpEXUg0cQkMbPgGysOtpPLTM6RWNn6C+bK0t+8b2cICI+E8EhsDO/5fH93d76b/d1/vzyGFbvCExpbCY+E8EgIj8SBl4vT+fHl8hhW+OKREB4J4ZEQHomN4cE+wiMhPBLCIyE8EsIjITwSwiMhPBLCIyE8EsIjITwSwiMhPBLCIyE8EsIjITwSwiMhPBLCIyE8EsIjITwSwiMhPBLCI7ExvKVhxnHE5/Xp9OH53enx/Hp5/idncLt2hfe7SKbwhtDmLE79z4RHQngkhEfiwMvFuPq+eLl4eL48/WX9DG6XLx4J4ZEQHgnhkdgYHuwjPBLCIyE8EsIjITwSwiMhPBLCIyE8EsIjITwSwiMhPBLCIyE8EsIjITwSwiMhPBLCIyE8EsIjITwSwiMhPBLCIyE8EhvDexvcGUcVxwGexWHGYcRn/Yznh4/Ph3HHl8fzaf7cuONV2BXe316LmsIbVkRnpvCEdo2ER0J4JIRH4sDLxRjA4uViiGj9jKXLxenpXcqLl4v7nyfz1fnikRAeCeGREB6JjeHBPsIjITwSwiMhPBLCIyE8EsIjITwSwiMhPBLCIyE8EsIjITwSwiMhPBLCIyE8EsIjITwSwiMhPBLCIyE8EsIjITwSwiOxMby3wZ1xEHEc4FkcZhxGfNbPWBpmHEZ8FocZ18cdP3sGx9sV3jWsRVmc+pqEJ7yE8ISXEJ7wEgdeLsYfb/FyMQSwfsYUzeydz66+H3EGx/PF88VLCE94CeEJLyE84SU2hgf7CI+E8EgIj4TwSAiPhPBICI+E8EgIj4TwSAiPhPBICI+E8EgIj4TwSAiPhPBICI+E8EgIj4TwSAiPhPBICI+E8EgIj8TG8N4Gd8Yxw3GAZ3GYcRjxWT9jGtyZv/N+gGca3Jm/Mw7wfJUzGO0K739ZizriDEbCE15CeMJLCE94iQMvF+M/fvFyMfx462dMP/jsnWL1/YgzGPni/aMzGAlPeAnhCS8hPOElNoYH+wiPhPBICI+E8EgIj4TwSAiPhPBICI+E8EgIj4TwSAiPhPBICI+E8EgIj4TwSAiPhPBICI+E8EgIj4TwSAiPhPBICI/ExvDeBnfGIcJxgGdxmHEY8Vk/YxrLmb/zfjxnGsuZvzOO59zSGbdkV3jWoi7+0Rm3RHjCSwhPeAnhCS9x4OVi/KctXi6Gf/z6GdOPNXvnWlffjzjjlvjiXdEZt0R4wksIT3gJ4QkvsTE82Ed4JIRHQngkhEdCeCSER0J4JIRHQngkhEdCeATO5x+w1rZdco9S7QAAAABJRU5ErkJggg==)\n",
        "\n",
        "  b)   \n",
        "  \n",
        "  \n",
        "  ![2.PNG](data:image/png;base64,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)\n",
        "\n"
      ]
    },
    {
      "cell_type": "code",
      "metadata": {
        "colab": {
          "base_uri": "https://localhost:8080/"
        },
        "id": "5Yb1GZdxSfyE",
        "outputId": "98cd9949-65e5-4f90-c65c-bd95d5aa3675"
      },
      "source": [
        "#For pattern a:\n",
        "print(\"Printing pattern of a):\\n\")\n",
        "print(\"======================================\")\n",
        "for i in range(12):\n",
        "  if i%2!=0:\n",
        "    for j in range(i):\n",
        "      print(\"F\",end=\"\")\n",
        "  print(\"\\r\")\n",
        "print(\"======================================\")\n",
        "#For pattern b:\n",
        "print(\"Printing pattern of b):\\n\")\n",
        "print(\"======================================\")\n",
        "x= 0\n",
        "y = 1\n",
        "for i in range(1,10):\n",
        "  if(i <= 1):\n",
        "     fibo = i\n",
        "  else:\n",
        "    fibo = x +y\n",
        "    x = y\n",
        "    y = fibo\n",
        "  for j in range(fibo):\n",
        "    print('F',end=\"\")\n",
        "  print('\\r')\n"
      ],
      "execution_count": 3,
      "outputs": [
        {
          "output_type": "stream",
          "text": [
            "Printing pattern of a):\n",
            "\n",
            "======================================\n",
            "\r\n",
            "F\r\n",
            "\r\n",
            "FFF\r\n",
            "\r\n",
            "FFFFF\r\n",
            "\r\n",
            "FFFFFFF\r\n",
            "\r\n",
            "FFFFFFFFF\r\n",
            "\r\n",
            "FFFFFFFFFFF\r\n",
            "======================================\n",
            "Printing pattern of b):\n",
            "\n",
            "======================================\n",
            "F\r\n",
            "F\r\n",
            "FF\r\n",
            "FFF\r\n",
            "FFFFF\r\n",
            "FFFFFFFF\r\n",
            "FFFFFFFFFFFFF\r\n",
            "FFFFFFFFFFFFFFFFFFFFF\r\n",
            "FFFFFFFFFFFFFFFFFFFFFFFFFFFFFFFFFF\r\n"
          ],
          "name": "stdout"
        }
      ]
    }
  ]
}