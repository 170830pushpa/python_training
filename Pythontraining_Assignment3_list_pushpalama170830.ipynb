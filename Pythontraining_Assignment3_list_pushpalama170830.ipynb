{
  "nbformat": 4,
  "nbformat_minor": 0,
  "metadata": {
    "colab": {
      "name": "Pythontraining_Assignment3_list_pushpalama170830.ipynb",
      "provenance": [],
      "collapsed_sections": [],
      "authorship_tag": "ABX9TyO4Y67ys3+SYxhvQYnQJItj",
      "include_colab_link": true
    },
    "kernelspec": {
      "name": "python3",
      "display_name": "Python 3"
    },
    "language_info": {
      "name": "python"
    }
  },
  "cells": [
    {
      "cell_type": "markdown",
      "metadata": {
        "id": "view-in-github",
        "colab_type": "text"
      },
      "source": [
        "<a href=\"https://colab.research.google.com/github/170830pushpa/python_training/blob/main/Pythontraining_Assignment3_list_pushpalama170830.ipynb\" target=\"_parent\"><img src=\"https://colab.research.google.com/assets/colab-badge.svg\" alt=\"Open In Colab\"/></a>"
      ]
    },
    {
      "cell_type": "markdown",
      "metadata": {
        "id": "EAvKWc7-eQ6n"
      },
      "source": [
        "1) Make a list of ten students in your class. Print the name of each student whose name starts with ‘B’."
      ]
    },
    {
      "cell_type": "code",
      "metadata": {
        "colab": {
          "base_uri": "https://localhost:8080/"
        },
        "id": "h6gahHuHeLDZ",
        "outputId": "41f530a2-741a-4359-9d11-101ebf0e96eb"
      },
      "source": [
        "studentname_list=['Sahil Ramjhali','Saken Rai','Arogya Thapa Magar','Sijan Aacharya',\n",
        "                  'Sujan Bohora','Binay Stha','Bijay Shahi','Biki Rana','Pushpa Lama','Binita Lama']\n",
        "for studentname in studentname_list:\n",
        "  if studentname[0]=='B':\n",
        "    print(studentname)"
      ],
      "execution_count": 1,
      "outputs": [
        {
          "output_type": "stream",
          "text": [
            "Binay Stha\n",
            "Bijay Shahi\n",
            "Biki Rana\n",
            "Binita Lama\n"
          ],
          "name": "stdout"
        }
      ]
    },
    {
      "cell_type": "markdown",
      "metadata": {
        "id": "eiWWQQ8CefaQ"
      },
      "source": [
        "2) Make a list of ten students in your class. Print the name of each student whose name ends with ‘a’."
      ]
    },
    {
      "cell_type": "code",
      "metadata": {
        "colab": {
          "base_uri": "https://localhost:8080/"
        },
        "id": "tnjyo1Sceeu2",
        "outputId": "2320a8bf-b24e-424e-8dc5-75a6e86badb3"
      },
      "source": [
        "studentname_list=['Sahil Ramjhali','Saken Rai','Arogya Thapa Magar','Sijan Aacharya',\n",
        "                  'Sujan Bohora','Binay Stha','Bijay Shahi','Biki Rana','Pushpa Lama','Binita Lama']\n",
        "for studentname in studentname_list:\n",
        "  if studentname.endswith('a'):\n",
        "    print(studentname)"
      ],
      "execution_count": 2,
      "outputs": [
        {
          "output_type": "stream",
          "text": [
            "Sijan Aacharya\n",
            "Sujan Bohora\n",
            "Binay Stha\n",
            "Biki Rana\n",
            "Pushpa Lama\n",
            "Binita Lama\n"
          ],
          "name": "stdout"
        }
      ]
    },
    {
      "cell_type": "markdown",
      "metadata": {
        "id": "zwK1Kd2Ygoqv"
      },
      "source": [
        "3) Print all the unique elements in the following list \n",
        "fifa = ['Italy','Argentina','Germany','Brazil','France','Brazil','Italy','Spain','Germany','France']\n"
      ]
    },
    {
      "cell_type": "code",
      "metadata": {
        "colab": {
          "base_uri": "https://localhost:8080/"
        },
        "id": "XXknTrRCgrpX",
        "outputId": "574ec3e9-fff7-48b4-cd49-8518f0e83957"
      },
      "source": [
        "fifa = ['Italy','Argentina','Germany','Brazil','France','Brazil','Italy','Spain','Germany','France']\n",
        "unique_fifa=[]\n",
        "for i in fifa:\n",
        "  if i in unique_fifa:\n",
        "    continue\n",
        "  else:\n",
        "    unique_fifa.append(i)\n",
        "print(unique_fifa)"
      ],
      "execution_count": 3,
      "outputs": [
        {
          "output_type": "stream",
          "text": [
            "['Italy', 'Argentina', 'Germany', 'Brazil', 'France', 'Spain']\n"
          ],
          "name": "stdout"
        }
      ]
    },
    {
      "cell_type": "markdown",
      "metadata": {
        "id": "vtT3Xrqkgsyq"
      },
      "source": [
        "4) Change the first alphabet of all elements of the following list to capital.\n",
        "Bob = [‘hurricane’,’tambourine’,’blowing’,’numb’]\n",
        "A = [‘a’,’b’,’c’,’d’] B = [‘1’,’a’,’2’,’b’]\n"
      ]
    },
    {
      "cell_type": "code",
      "metadata": {
        "colab": {
          "base_uri": "https://localhost:8080/"
        },
        "id": "Kg8WOXA6gw9F",
        "outputId": "929465b8-96ab-4106-f3f5-c7a944f6846b"
      },
      "source": [
        "Bob=['hurricane','tambourine','blowing','numb'] \n",
        "print(\"Capitalizing 'Bob list':\\n==============================\")\n",
        "for i in Bob:\n",
        "  print(i.title())"
      ],
      "execution_count": 4,
      "outputs": [
        {
          "output_type": "stream",
          "text": [
            "Capitalizing 'Bob list':\n",
            "==============================\n",
            "Hurricane\n",
            "Tambourine\n",
            "Blowing\n",
            "Numb\n"
          ],
          "name": "stdout"
        }
      ]
    },
    {
      "cell_type": "markdown",
      "metadata": {
        "id": "mBhk5dm6qMHW"
      },
      "source": [
        "5) A = [‘a’,’b’,’c’,’d’] B = [‘1’,’a’,’2’,’b’]\n",
        "Find  A n B and A u B"
      ]
    },
    {
      "cell_type": "code",
      "metadata": {
        "colab": {
          "base_uri": "https://localhost:8080/"
        },
        "id": "oHQ0OA-BqKoK",
        "outputId": "952886d8-72ad-4769-8e86-e9ba1951b7ff"
      },
      "source": [
        "A = ['a','b','c','d'] \n",
        "B = ['1','a','2','b']\n",
        "AuB=A\n",
        "AnB=[]\n",
        "for i in B:\n",
        "  if i in A:\n",
        "    AnB.append(i)\n",
        "  else:\n",
        "    AuB.append(i)\n",
        "print(\"=======================================\\nAuB:  \",AuB,\n",
        "      \"\\n======================================\\nAnB:  \",AnB)"
      ],
      "execution_count": 5,
      "outputs": [
        {
          "output_type": "stream",
          "text": [
            "=======================================\n",
            "AuB:   ['a', 'b', 'c', 'd', '1', '2'] \n",
            "======================================\n",
            "AnB:   ['a', 'b']\n"
          ],
          "name": "stdout"
        }
      ]
    },
    {
      "cell_type": "markdown",
      "metadata": {
        "id": "P6em6oIZgyEI"
      },
      "source": [
        "6) Find  and  Calculate the mean and standard deviation of the following list:\n",
        "Numbers = [1,2,3,5,88,99,55,33,41,52]"
      ]
    },
    {
      "cell_type": "code",
      "metadata": {
        "colab": {
          "base_uri": "https://localhost:8080/"
        },
        "id": "pPWzRjYTgoEg",
        "outputId": "cc92228e-2a4e-4f24-aca6-552b03393f8a"
      },
      "source": [
        "import statistics\n",
        "Numbers = [1,2,3,5,88,99,55,33,41,52]\n",
        "x_bar=statistics.mean(Numbers)\n",
        "sd=statistics.stdev(Numbers)\n",
        "print(\"Mean and standard deviation of list Numbers = [1,2,3,5,88,99,55,33,41,52] are \",\n",
        "      x_bar,\" and \",format(sd,\".3f\"),\" respectively.\")"
      ],
      "execution_count": 6,
      "outputs": [
        {
          "output_type": "stream",
          "text": [
            "Mean and standard deviation of list Numbers = [1,2,3,5,88,99,55,33,41,52] are  37.9  and  36.085  respectively.\n"
          ],
          "name": "stdout"
        }
      ]
    }
  ]
}