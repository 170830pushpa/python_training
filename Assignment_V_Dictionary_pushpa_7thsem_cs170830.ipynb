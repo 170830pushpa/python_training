{
  "nbformat": 4,
  "nbformat_minor": 0,
  "metadata": {
    "colab": {
      "name": "Assignment_V_Dictionary_pushpa_7thsem_cs170830.ipynb",
      "provenance": [],
      "authorship_tag": "ABX9TyP0BOXy4P5lCQUneeb+HMa7",
      "include_colab_link": true
    },
    "kernelspec": {
      "name": "python3",
      "display_name": "Python 3"
    },
    "language_info": {
      "name": "python"
    }
  },
  "cells": [
    {
      "cell_type": "markdown",
      "metadata": {
        "id": "view-in-github",
        "colab_type": "text"
      },
      "source": [
        "<a href=\"https://colab.research.google.com/github/170830pushpa/python_training/blob/main/Assignment_V_Dictionary_pushpa_7thsem_cs170830.ipynb\" target=\"_parent\"><img src=\"https://colab.research.google.com/assets/colab-badge.svg\" alt=\"Open In Colab\"/></a>"
      ]
    },
    {
      "cell_type": "markdown",
      "metadata": {
        "id": "fMS2a9XY_LV0"
      },
      "source": [
        "        ***Assignment-V***"
      ]
    },
    {
      "cell_type": "markdown",
      "metadata": {
        "id": "etSJpW8A_VZO"
      },
      "source": [
        "1) Students = [‘jack’,’jill’,’david’,’silva’,’ronaldo’]\n",
        "Marks = [‘55’,’56’,’57’,’66’,’76’]\n",
        "Make a dictionary using lists above and delete the key-value (students:marks) pairs with lowest marks\n"
      ]
    },
    {
      "cell_type": "code",
      "metadata": {
        "colab": {
          "base_uri": "https://localhost:8080/"
        },
        "id": "6caFPzmM-pfK",
        "outputId": "f45e87ff-6e47-418e-a1ae-2bd72fa93e62"
      },
      "source": [
        "Students = ['jack','jill','david','silva','ronaldo']\n",
        "Marks = ['55','56','57','66','76']\n",
        "stu_marks={}\n",
        "i=0\n",
        "while i<len(Students):\n",
        "  stu_marks[Students[i]]=int(Marks[i])\n",
        "  i+=1\n",
        "lowest_marks=min(stu_marks,key=stu_marks.get)\n",
        "del stu_marks[lowest_marks]\n",
        "print(stu_marks)"
      ],
      "execution_count": 8,
      "outputs": [
        {
          "output_type": "stream",
          "text": [
            "{'jill': 56, 'david': 57, 'silva': 66, 'ronaldo': 76}\n"
          ],
          "name": "stdout"
        }
      ]
    },
    {
      "cell_type": "markdown",
      "metadata": {
        "id": "6WaimHDXFRRd"
      },
      "source": [
        "2) Euro = {‘France’:5,’Germany’:2,’Portugal’:3,’Hungary’:6}\n",
        "Make two lists from above dictionary\n"
      ]
    },
    {
      "cell_type": "code",
      "metadata": {
        "colab": {
          "base_uri": "https://localhost:8080/"
        },
        "id": "npvl67seC4hn",
        "outputId": "97eb5b27-182c-46b1-80f3-1df14457fa50"
      },
      "source": [
        "Euro={'France':5, 'Germany':2, 'Portugal':3, 'Hungary':6}\n",
        "Country_name=list(Euro.keys())\n",
        "points=list(Euro.values())\n",
        "print(Country_name)\n",
        "print(points)"
      ],
      "execution_count": 2,
      "outputs": [
        {
          "output_type": "stream",
          "text": [
            "['France', 'Germany', 'Portugal', 'Hungary']\n",
            "[5, 2, 3, 6]\n"
          ],
          "name": "stdout"
        }
      ]
    },
    {
      "cell_type": "markdown",
      "metadata": {
        "id": "08stL7q6GKzH"
      },
      "source": [
        "3) users = {'g91':{'name':'Aron','age':55,'poison':'Old monk'},\n",
        "        'twir56':{'name':'Visakha','age':26,'poison':'coca cola'},\n",
        "        'jsdl8':{'name':'Saudi','age':12,'poison':'hinwa'}}\n",
        "Generate a list of usernames, name, age and poison from the above dictionary.\n"
      ]
    },
    {
      "cell_type": "code",
      "metadata": {
        "colab": {
          "base_uri": "https://localhost:8080/"
        },
        "id": "wMXQQsbUGHEq",
        "outputId": "a7c5b1ba-a4b5-41ec-8123-4a5239676ca7"
      },
      "source": [
        "users = {'g91':{'name':'Aron','age':55,'poison':'Old monk'}, 'twir56':{'name':'Visakha','age':26,'poison':'coca cola'}, 'jsdl8':{'name':'Saudi','age':12,'poison':'hinwa'}}\n",
        "usernames=list(users.keys())\n",
        "name=[]\n",
        "age=[]\n",
        "poison=[]\n",
        "i=0\n",
        "while i<len(users):\n",
        "  name.append(users[usernames[i]]['name'])\n",
        "  age.append(users[usernames[i]]['age'])\n",
        "  poison.append(users[usernames[i]]['poison'])\n",
        "  i+=1\n",
        "print(usernames)\n",
        "print(name)\n",
        "print(age)\n",
        "print(poison)"
      ],
      "execution_count": 3,
      "outputs": [
        {
          "output_type": "stream",
          "text": [
            "['g91', 'twir56', 'jsdl8']\n",
            "['Aron', 'Visakha', 'Saudi']\n",
            "[55, 26, 12]\n",
            "['Old monk', 'coca cola', 'hinwa']\n"
          ],
          "name": "stdout"
        }
      ]
    },
    {
      "cell_type": "markdown",
      "metadata": {
        "id": "526E5BBeJ0XX"
      },
      "source": [
        "4) Take the above list and put it in order."
      ]
    },
    {
      "cell_type": "code",
      "metadata": {
        "colab": {
          "base_uri": "https://localhost:8080/"
        },
        "id": "dvY7Mj_ZJuBH",
        "outputId": "c13cb896-94d9-46e6-b155-e0056fe13c1b"
      },
      "source": [
        "usernames.sort()\n",
        "name.sort()\n",
        "age.sort()\n",
        "poison.sort()\n",
        "print(usernames)\n",
        "print(name)\n",
        "print(age)\n",
        "print(poison)"
      ],
      "execution_count": 4,
      "outputs": [
        {
          "output_type": "stream",
          "text": [
            "['g91', 'jsdl8', 'twir56']\n",
            "['Aron', 'Saudi', 'Visakha']\n",
            "[12, 26, 55]\n",
            "['Old monk', 'coca cola', 'hinwa']\n"
          ],
          "name": "stdout"
        }
      ]
    },
    {
      "cell_type": "markdown",
      "metadata": {
        "id": "OhyL05h3KCNr"
      },
      "source": [
        "5) Create an empty dictionary called milk_carton. Add the following key/value pairs.You can make up the values or use a real milk carton.\n",
        "Expiration_date: a tuple with day, month, year\n",
        "Vol: volume of milk \n",
        "Cost: cost of milk\n",
        "Brand_name\n"
      ]
    },
    {
      "cell_type": "code",
      "metadata": {
        "colab": {
          "base_uri": "https://localhost:8080/"
        },
        "id": "1C6yJ998KFQZ",
        "outputId": "20da5643-e22c-49d8-cff0-9108580addc7"
      },
      "source": [
        "milk_cartoon={}\n",
        "milk_cartoon['Expiration_date']=(5,'November',2022)\n",
        "milk_cartoon['Vol']='25ml'\n",
        "milk_cartoon['Cost']=3000\n",
        "milk_cartoon['Brand_name']='ABC'\n",
        "print(milk_cartoon)"
      ],
      "execution_count": 5,
      "outputs": [
        {
          "output_type": "stream",
          "text": [
            "{'Expiration_date': (5, 'November', 2022), 'Vol': '25ml', 'Cost': 3000, 'Brand_name': 'ABC'}\n"
          ],
          "name": "stdout"
        }
      ]
    },
    {
      "cell_type": "markdown",
      "metadata": {
        "id": "HWmrKAS0LdHh"
      },
      "source": [
        "6) Print out the values of all of the elements of the milk_carton using the values in the dictionary."
      ]
    },
    {
      "cell_type": "code",
      "metadata": {
        "colab": {
          "base_uri": "https://localhost:8080/"
        },
        "id": "rrPXsQRuLcQl",
        "outputId": "298c759c-9bb7-4cfe-a8fe-551edb252f69"
      },
      "source": [
        "print(milk_cartoon.values())"
      ],
      "execution_count": 6,
      "outputs": [
        {
          "output_type": "stream",
          "text": [
            "dict_values([(5, 'November', 2022), '25ml', 3000, 'ABC'])\n"
          ],
          "name": "stdout"
        }
      ]
    },
    {
      "cell_type": "markdown",
      "metadata": {
        "id": "4hCouT-KL42K"
      },
      "source": [
        "7) Show how to calculate the cost of six cartons of milk based on the cost of the milk_carton."
      ]
    },
    {
      "cell_type": "code",
      "metadata": {
        "colab": {
          "base_uri": "https://localhost:8080/"
        },
        "id": "MxI0_drRL3_i",
        "outputId": "d81e32cf-5e44-4a61-a2d1-16a2a66ebaba"
      },
      "source": [
        "cartons_number=6\n",
        "total_cost=cartons_number*milk_cartoon['Cost']\n",
        "print(\"Cost of 6 cartons of milk based on cost of the milk_carton is Rs.\",total_cost)"
      ],
      "execution_count": 7,
      "outputs": [
        {
          "output_type": "stream",
          "text": [
            "Cost of 6 cartons of milk based on cost of the milk_carton is Rs. 18000\n"
          ],
          "name": "stdout"
        }
      ]
    }
  ]
}