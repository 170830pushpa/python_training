{
  "nbformat": 4,
  "nbformat_minor": 0,
  "metadata": {
    "colab": {
      "name": "Assignment_VIII_functions_pushpa_7thsem_cs170830.ipynb",
      "provenance": [],
      "collapsed_sections": [],
      "authorship_tag": "ABX9TyOsCi15he94aMOE+4d76L81",
      "include_colab_link": true
    },
    "kernelspec": {
      "name": "python3",
      "display_name": "Python 3"
    },
    "language_info": {
      "name": "python"
    }
  },
  "cells": [
    {
      "cell_type": "markdown",
      "metadata": {
        "id": "view-in-github",
        "colab_type": "text"
      },
      "source": [
        "<a href=\"https://colab.research.google.com/github/170830pushpa/python_training/blob/main/Assignment_VIII_functions_pushpa_7thsem_cs170830.ipynb\" target=\"_parent\"><img src=\"https://colab.research.google.com/assets/colab-badge.svg\" alt=\"Open In Colab\"/></a>"
      ]
    },
    {
      "cell_type": "markdown",
      "metadata": {
        "id": "Pl5ahF4KoBee"
      },
      "source": [
        "                        ***Assignment-VII--Functions***"
      ]
    },
    {
      "cell_type": "markdown",
      "metadata": {
        "id": "OU0byYF6j9aI"
      },
      "source": [
        "1) Write a function that calculates the X^Y "
      ]
    },
    {
      "cell_type": "code",
      "metadata": {
        "id": "EN62FyAfdm5G",
        "colab": {
          "base_uri": "https://localhost:8080/"
        },
        "outputId": "0a7679cc-79f7-4c5b-8f54-aea38d6ae5b9"
      },
      "source": [
        "def power(X,Y):\n",
        "  print(\"{} ^ {} ={}\".format(X,Y,(X**Y)))\n",
        "X=int(input(\"Enter value of X:\\n\"))\n",
        "Y=int(input(\"Enter value of Y:\\n\"))\n",
        "power(X,Y)"
      ],
      "execution_count": 1,
      "outputs": [
        {
          "output_type": "stream",
          "text": [
            "Enter value of X:\n",
            "3\n",
            "Enter value of Y:\n",
            "4\n",
            "3 ^ 4 =81\n"
          ],
          "name": "stdout"
        }
      ]
    },
    {
      "cell_type": "markdown",
      "metadata": {
        "id": "Dy9d6EHhj7qG"
      },
      "source": [
        "2) Write a Python function to multiply all the numbers in a list."
      ]
    },
    {
      "cell_type": "code",
      "metadata": {
        "colab": {
          "base_uri": "https://localhost:8080/"
        },
        "id": "0ylBev6OlaOS",
        "outputId": "2710101c-04cb-4d13-90e5-1c67b4152fe1"
      },
      "source": [
        "def multiply(x):\n",
        "  m=1\n",
        "  for i in x:\n",
        "    m*=i\n",
        "  print(\"Multiplication all numbers in a list is \",m)\n",
        "a_list=[1,2,3,2,5,8,12,24,10,90]\n",
        "multiply(a_list)"
      ],
      "execution_count": 2,
      "outputs": [
        {
          "output_type": "stream",
          "text": [
            "Multiplication all numbers in a list is  124416000\n"
          ],
          "name": "stdout"
        }
      ]
    },
    {
      "cell_type": "markdown",
      "metadata": {
        "id": "vkeQu6_LmfvK"
      },
      "source": [
        "3) Write a Python function to calculate the factorial of a number (a non-negative integer). The function accepts the number as an argument."
      ]
    },
    {
      "cell_type": "code",
      "metadata": {
        "colab": {
          "base_uri": "https://localhost:8080/"
        },
        "id": "zs4KS7VTmesr",
        "outputId": "3ec43449-0ce6-471d-e362-c6d26853991f"
      },
      "source": [
        "def factorial(x):\n",
        "  if x==0:\n",
        "    return 1\n",
        "  elif x==1:\n",
        "    return 1\n",
        "  else:\n",
        "    return x*factorial(x-1)\n",
        "number=int(input(\"Enter non-negative integer:\\n\"))\n",
        "print(\"Factorial of {} is {}.\".format(number,factorial(number)))"
      ],
      "execution_count": 3,
      "outputs": [
        {
          "output_type": "stream",
          "text": [
            "Enter non-negative integer:\n",
            "5\n",
            "Factorial of 5 is 120.\n"
          ],
          "name": "stdout"
        }
      ]
    },
    {
      "cell_type": "markdown",
      "metadata": {
        "id": "4kb9864cmqY0"
      },
      "source": [
        "4) Write a Python function that accepts a string and calculates the number of uppercase letters and lowercase letters."
      ]
    },
    {
      "cell_type": "code",
      "metadata": {
        "colab": {
          "base_uri": "https://localhost:8080/"
        },
        "id": "hZVKjkTOmpsW",
        "outputId": "27b8716e-86a6-46aa-a499-4212ade56eb3"
      },
      "source": [
        "def uplow_count():\n",
        "  upper_count=0\n",
        "  lower_count=0\n",
        "  str=input(\"Enter string:\\n\")\n",
        "  for i in range(len(str)):\n",
        "    if(str[i].isupper()):\n",
        "      upper_count+=1\n",
        "    if(str[i].islower()):\n",
        "      lower_count+=1\n",
        "  print(\"Input string has {} uppercase and {} lowercase letters.\".format(upper_count,lower_count))\n",
        "uplow_count()"
      ],
      "execution_count": 4,
      "outputs": [
        {
          "output_type": "stream",
          "text": [
            "Enter string:\n",
            "I AM a god and dOg\n",
            "Input string has 4 uppercase and 9 lowercase letters.\n"
          ],
          "name": "stdout"
        }
      ]
    },
    {
      "cell_type": "markdown",
      "metadata": {
        "id": "14DBg34Km7Nc"
      },
      "source": [
        "5) Write a Python function that takes a list and returns a new list with unique elements of the first list\n"
      ]
    },
    {
      "cell_type": "code",
      "metadata": {
        "colab": {
          "base_uri": "https://localhost:8080/"
        },
        "id": "VYRBOGulm1uw",
        "outputId": "eaf14891-32ff-4538-fcf7-0a84cfa5539c"
      },
      "source": [
        "def uniq(x):\n",
        "  new_list=[]\n",
        "  for i in x:\n",
        "    if i not in new_list:\n",
        "      new_list.append(i)\n",
        "  return new_list\n",
        "b_list=[1,2,3,3,2,1,12,12,12,13,14,15,5,5,5,5]\n",
        "lis=uniq(b_list)\n",
        "print(\"Unique list is :\\r\")\n",
        "print(lis)"
      ],
      "execution_count": 5,
      "outputs": [
        {
          "output_type": "stream",
          "text": [
            "Unique list is :\r\n",
            "[1, 2, 3, 12, 13, 14, 15, 5]\n"
          ],
          "name": "stdout"
        }
      ]
    },
    {
      "cell_type": "markdown",
      "metadata": {
        "id": "enAdvLhEnCat"
      },
      "source": [
        "6) Write a Python program to print the even numbers from a given list."
      ]
    },
    {
      "cell_type": "code",
      "metadata": {
        "colab": {
          "base_uri": "https://localhost:8080/"
        },
        "id": "4ylNKQAsnBHz",
        "outputId": "9a7d7df3-a7e1-4f41-d3fc-1f542897a84c"
      },
      "source": [
        "def evn(x):\n",
        "  for i in x:\n",
        "    if i%2==0:\n",
        "      print(i)\n",
        "c_list=[1,2,3,4,5,6,7,8,9,10,11,12,13,14,15,16,17,18,19,20]\n",
        "print(\"Even numbers in given list are:\")\n",
        "evn(c_list)"
      ],
      "execution_count": 6,
      "outputs": [
        {
          "output_type": "stream",
          "text": [
            "Even numbers in given list are:\n",
            "2\n",
            "4\n",
            "6\n",
            "8\n",
            "10\n",
            "12\n",
            "14\n",
            "16\n",
            "18\n",
            "20\n"
          ],
          "name": "stdout"
        }
      ]
    },
    {
      "cell_type": "markdown",
      "metadata": {
        "id": "98wU6UEDnJWh"
      },
      "source": [
        "7) Write a Python function to check whether a string is a pangram or not. Note : Pangrams are words or sentences containing every letter of the alphabet at least once."
      ]
    },
    {
      "cell_type": "code",
      "metadata": {
        "colab": {
          "base_uri": "https://localhost:8080/"
        },
        "id": "F492p0gcm2bz",
        "outputId": "5830c3f5-ac4f-49d4-b6d9-3560922f8887"
      },
      "source": [
        "def checkpangram(str):\n",
        "  flag=0\n",
        "  alphabet_list=['a','b','c','d','e','f','g','h','i','j','k','l','m','n','o','p','q','r','s','t','u','v','w','x','y','z']\n",
        "  for i in alphabet_list:\n",
        "    if i not in str.lower():\n",
        "      flag=1\n",
        "  if flag==0:\n",
        "    print(\"Given string is pangram.\")\n",
        "  else:\n",
        "    print(\"Given string is not pangram\")\n",
        "str=\"The quick brown fox jumps over a lazy dog\"\n",
        "checkpangram(str)"
      ],
      "execution_count": 7,
      "outputs": [
        {
          "output_type": "stream",
          "text": [
            "Given string is pangram.\n"
          ],
          "name": "stdout"
        }
      ]
    },
    {
      "cell_type": "markdown",
      "metadata": {
        "id": "g6O4_7TrnOuw"
      },
      "source": [
        "8) Write a Python program that accepts a hyphen-separated sequence of words as input and prints the words in a hyphen-separated sequence after sorting them alphabetically\n",
        "Sample Items : green-red-yellow-black-white\n",
        "Expected Result : black-green-red-white-yellow"
      ]
    },
    {
      "cell_type": "code",
      "metadata": {
        "id": "unAUc6uum2xq",
        "colab": {
          "base_uri": "https://localhost:8080/"
        },
        "outputId": "36380804-3d85-4148-f528-5239ed8904a8"
      },
      "source": [
        "x=\"green-red-yellow-black-white\"\n",
        "lst=[]\n",
        "lst=[n for n in x.split('-')]  \n",
        "lst.sort()\n",
        "print(\"Sorted:\")\n",
        "print('-'.join(lst))"
      ],
      "execution_count": 12,
      "outputs": [
        {
          "output_type": "stream",
          "text": [
            "Enter a hyphen separated sequence of words:\n",
            "Sorted:\n",
            "black-green-red-white-yellow\n"
          ],
          "name": "stdout"
        }
      ]
    },
    {
      "cell_type": "markdown",
      "metadata": {
        "id": "xXxZdzRJncP8"
      },
      "source": [
        "9) Write a Python program to reverse a string."
      ]
    },
    {
      "cell_type": "code",
      "metadata": {
        "colab": {
          "base_uri": "https://localhost:8080/",
          "height": 35
        },
        "id": "bsMcN9Pym3DR",
        "outputId": "4cfa29ed-9b44-4890-d04f-bb1affe6ce3d"
      },
      "source": [
        "def rev(str):\n",
        "  str_result=\"\"\n",
        "  for i in str:\n",
        "    str_result=i+str_result\n",
        "  return str_result\n",
        "rev(\"I am a dog\")"
      ],
      "execution_count": 13,
      "outputs": [
        {
          "output_type": "execute_result",
          "data": {
            "application/vnd.google.colaboratory.intrinsic+json": {
              "type": "string"
            },
            "text/plain": [
              "'god a ma I'"
            ]
          },
          "metadata": {
            "tags": []
          },
          "execution_count": 13
        }
      ]
    },
    {
      "cell_type": "markdown",
      "metadata": {
        "id": "Jr3sd02jniIu"
      },
      "source": [
        "10) Write a Python program to access a function inside a function"
      ]
    },
    {
      "cell_type": "code",
      "metadata": {
        "colab": {
          "base_uri": "https://localhost:8080/"
        },
        "id": "oClauCGZm3Qd",
        "outputId": "852f962c-cf13-46eb-c168-7d2f5a4f20a0"
      },
      "source": [
        "def sum(a,b):\n",
        "  return a+b\n",
        "def printsum():\n",
        "  a=2;\n",
        "  b=3;\n",
        "  total=sum(a,b)\n",
        "  print(\"Sum of {} and {} is {}.\".format(a,b,total))\n",
        "printsum()"
      ],
      "execution_count": 14,
      "outputs": [
        {
          "output_type": "stream",
          "text": [
            "Sum of 2 and 3 is 5.\n"
          ],
          "name": "stdout"
        }
      ]
    },
    {
      "cell_type": "markdown",
      "metadata": {
        "id": "l_cA_Oxgm3kG"
      },
      "source": [
        "11) Write a program to double a given number and add two numbers using lambda()?"
      ]
    },
    {
      "cell_type": "code",
      "metadata": {
        "colab": {
          "base_uri": "https://localhost:8080/"
        },
        "id": "jsjCSpHem4DM",
        "outputId": "77a2ae8a-d2d2-4d62-b5d6-9bc7f67acfda"
      },
      "source": [
        "double=lambda num:num*2\n",
        "print(\"Double of {} is {}\".format(4,double(4)))\n",
        "add=lambda num,num2:num+num2\n",
        "print(\"Sum of {} and  {} is {}.\".format(2,3,add(2,3)))"
      ],
      "execution_count": 15,
      "outputs": [
        {
          "output_type": "stream",
          "text": [
            "Double of 4 is 8\n",
            "Sum of 2 and  3 is 5.\n"
          ],
          "name": "stdout"
        }
      ]
    },
    {
      "cell_type": "markdown",
      "metadata": {
        "id": "buSzt-mBnxK9"
      },
      "source": [
        "12) Write a python module with two functions:\n",
        "GCD\n",
        "LCM\n"
      ]
    },
    {
      "cell_type": "code",
      "metadata": {
        "id": "0mXilOjYnue3",
        "colab": {
          "base_uri": "https://localhost:8080/"
        },
        "outputId": "a4606725-1e7b-4ad2-d11c-c932eaff4f03"
      },
      "source": [
        "%%writefile gcdlcm.py\n",
        "def gcd(a,b):\n",
        "  if b==0:\n",
        "    return a\n",
        "  else:\n",
        "    return gcd(b,a%b)\n",
        "def lcm(a,b):\n",
        "  return (a/gcd(a,b))*b\n",
        "  "
      ],
      "execution_count": 16,
      "outputs": [
        {
          "output_type": "stream",
          "text": [
            "Writing gcdlcm.py\n"
          ],
          "name": "stdout"
        }
      ]
    },
    {
      "cell_type": "code",
      "metadata": {
        "colab": {
          "base_uri": "https://localhost:8080/"
        },
        "id": "j2PoROY03Q3A",
        "outputId": "3553b35e-b80a-45ae-dbde-b881d7044340"
      },
      "source": [
        "from gcdlcm import *\n",
        "print(gcd(15,20))\n",
        "print(lcm(15,20))"
      ],
      "execution_count": 17,
      "outputs": [
        {
          "output_type": "stream",
          "text": [
            "5\n",
            "60.0\n"
          ],
          "name": "stdout"
        }
      ]
    },
    {
      "cell_type": "markdown",
      "metadata": {
        "id": "Eb0N19ngn1wj"
      },
      "source": [
        "13) Write a python module with multiple sorting algorithms as its functions"
      ]
    },
    {
      "cell_type": "code",
      "metadata": {
        "id": "0SUJMV5unvbc",
        "colab": {
          "base_uri": "https://localhost:8080/"
        },
        "outputId": "3a6b2c4e-89c6-4c5f-d41d-9811c8928043"
      },
      "source": [
        "%%writefile sortalgo.py\n",
        "def bubblesort(a):\n",
        "  n = len(a)\n",
        "  for i in range(n-1):\n",
        "      for j in range(0, n-i-1):\n",
        "          if a[j] > a[j + 1] :\n",
        "             a[j], a[j + 1] = a[j + 1], a[j]\n",
        "\n",
        "\n",
        "\n",
        "def heapify(arr, n, i):\n",
        "    largest = i\n",
        "    l = 2 * i + 1    \n",
        "    r = 2 * i + 2    \n",
        "    if l < n and arr[i] < arr[l]:\n",
        "        largest = l\n",
        "    if r < n and arr[largest] < arr[r]:\n",
        "        largest = r\n",
        "    if largest != i:\n",
        "        arr[i],arr[largest] = arr[largest],arr[i]  \n",
        "        heapify(arr, n, largest)\n",
        "def heapSort(arr):\n",
        "    n = len(arr)\n",
        "    for i in range(n // 2 - 1, -1, -1):\n",
        "        heapify(arr, n, i)\n",
        "    for i in range(n-1, 0, -1):\n",
        "        arr[i], arr[0] = arr[0], arr[i]\n",
        "        heapify(arr, i, 0)\n",
        "\n",
        "\n",
        "\n",
        "def selecctionsort(A):\n",
        "  for i in range(len(A)):\n",
        "    min_idx = i\n",
        "    for j in range(i+1, len(A)):\n",
        "        if A[min_idx] > A[j]:\n",
        "            min_idx = j    \n",
        "    A[i], A[min_idx] = A[min_idx], A[i]\n",
        "\n",
        "\n",
        "def insertionSort(arr):\n",
        "    for i in range(1, len(arr)):\n",
        "        key = arr[i]\n",
        "        j = i-1\n",
        "        while j >=0 and key < arr[j] :\n",
        "                arr[j+1] = arr[j]\n",
        "                j -= 1\n",
        "        arr[j+1] = key\n"
      ],
      "execution_count": 18,
      "outputs": [
        {
          "output_type": "stream",
          "text": [
            "Writing sortalgo.py\n"
          ],
          "name": "stdout"
        }
      ]
    },
    {
      "cell_type": "code",
      "metadata": {
        "colab": {
          "base_uri": "https://localhost:8080/"
        },
        "id": "9LQsabK968yk",
        "outputId": "10f17d16-1532-4b0d-9e1f-e9785dd6daf3"
      },
      "source": [
        "from sortalgo import *\n",
        "a_list=[1,23,4,67,2,4,6,45,6,1,2]\n",
        "bubblesort(a_list)\n",
        "a_list"
      ],
      "execution_count": 19,
      "outputs": [
        {
          "output_type": "execute_result",
          "data": {
            "text/plain": [
              "[1, 1, 2, 2, 4, 4, 6, 6, 23, 45, 67]"
            ]
          },
          "metadata": {
            "tags": []
          },
          "execution_count": 19
        }
      ]
    },
    {
      "cell_type": "markdown",
      "metadata": {
        "id": "t5_eD2t9n6j0"
      },
      "source": [
        "14) standard deviation of the following data.You need to call your mean function to within your variance and standard deviation functions."
      ]
    },
    {
      "cell_type": "code",
      "metadata": {
        "id": "WZhPmQf9nwco",
        "colab": {
          "base_uri": "https://localhost:8080/"
        },
        "outputId": "33fd6705-4919-47f5-fc98-ccabedd7ce8e"
      },
      "source": [
        "import math\n",
        "from builtins import *\n",
        "def mean(Marks):\n",
        "  return sum(Marks)/len(Marks)\n",
        "def variance(x):\n",
        "  d=[]\n",
        "  m=mean(x)\n",
        "  for i in x:\n",
        "    sq=(i-m)**2\n",
        "    d.append(sq)\n",
        "  return sum(d)/len(x)\n",
        "def sd(x):\n",
        "  sm=0\n",
        "  m=mean(x)\n",
        "  for i in x:\n",
        "    sm+=((i-m)**2)\n",
        "  return math.sqrt(sm/(len(x)-1))\n",
        "Marks=[24,36,45,45,96,56,89,12,10,100]\n",
        "print(\"Mean of given data is \",mean(Marks))\n",
        "print(\"Variance of given data is \",variance(Marks))\n",
        "print(\"Standard deviation of given data is \",sd(Marks))"
      ],
      "execution_count": 25,
      "outputs": [
        {
          "output_type": "stream",
          "text": [
            "Mean of given data is  51.3\n",
            "Variance of given data is  1012.21\n",
            "Standard deviation of given data is  33.536215913215045\n"
          ],
          "name": "stdout"
        }
      ]
    }
  ]
}