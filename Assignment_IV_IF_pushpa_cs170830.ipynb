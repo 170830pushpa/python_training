{
  "nbformat": 4,
  "nbformat_minor": 0,
  "metadata": {
    "colab": {
      "name": "Assignment_IV_IF_pushpa_cs170830.ipynb",
      "provenance": [],
      "collapsed_sections": [],
      "authorship_tag": "ABX9TyNsKYC8eDz2Kb2mP1wuikMO",
      "include_colab_link": true
    },
    "kernelspec": {
      "name": "python3",
      "display_name": "Python 3"
    },
    "language_info": {
      "name": "python"
    }
  },
  "cells": [
    {
      "cell_type": "markdown",
      "metadata": {
        "id": "view-in-github",
        "colab_type": "text"
      },
      "source": [
        "<a href=\"https://colab.research.google.com/github/170830pushpa/python_training/blob/main/Assignment_IV_IF_pushpa_cs170830.ipynb\" target=\"_parent\"><img src=\"https://colab.research.google.com/assets/colab-badge.svg\" alt=\"Open In Colab\"/></a>"
      ]
    },
    {
      "cell_type": "markdown",
      "metadata": {
        "id": "RC7lmpR1p0nO"
      },
      "source": [
        "                                                **Assignmentn-IV (IF)**"
      ]
    },
    {
      "cell_type": "markdown",
      "metadata": {
        "id": "hadyQaoTqJoy"
      },
      "source": [
        "1) Write a python program to find the largest of three numbers ."
      ]
    },
    {
      "cell_type": "code",
      "metadata": {
        "colab": {
          "base_uri": "https://localhost:8080/"
        },
        "id": "CBpln5Z7pxcJ",
        "outputId": "0b01c8c5-83a1-4d2e-ff7f-c00dea5a3c54"
      },
      "source": [
        "num1=int(input(\"Enter first number:\\n\"))\n",
        "num2=int(input(\"Enter second number:\\n\"))\n",
        "num3=int(input(\"Enter third number:\\n\"))\n",
        "if num2<=num1>=num3:\n",
        "  print(\"{} is largest number.\".format(num1))\n",
        "elif num1<=num2>=num3:\n",
        "  print(\"{} is largest number.\".format(num2))\n",
        "else:\n",
        "      print(\"{} is largest number.\".format(num3))\n"
      ],
      "execution_count": 1,
      "outputs": [
        {
          "output_type": "stream",
          "text": [
            "Enter first number:\n",
            "12\n",
            "Enter second number:\n",
            "45\n",
            "Enter third number:\n",
            "2\n",
            "45 is largest number.\n"
          ],
          "name": "stdout"
        }
      ]
    },
    {
      "cell_type": "markdown",
      "metadata": {
        "id": "6JcDgaA1rd0Y"
      },
      "source": [
        "2) Write a python program to check whether a character is uppercase or lowercase alphabet."
      ]
    },
    {
      "cell_type": "code",
      "metadata": {
        "colab": {
          "base_uri": "https://localhost:8080/"
        },
        "id": "lLyUt-ilrdQB",
        "outputId": "dbc5ede5-f98e-4acf-ff0e-65936ae8535d"
      },
      "source": [
        "char=input(\"Enter a character either in lowercase or uppercase:\\n\")\n",
        "if char.isupper()==True:\n",
        "  print(\"{} is uppercase character.\".format(char))\n",
        "else:\n",
        "    print(\"{} is lowercase character.\".format(char))"
      ],
      "execution_count": 2,
      "outputs": [
        {
          "output_type": "stream",
          "text": [
            "Enter a character either in lowercase or uppercase:\n",
            "A\n",
            "A is uppercase character.\n"
          ],
          "name": "stdout"
        }
      ]
    },
    {
      "cell_type": "markdown",
      "metadata": {
        "id": "RxW3RzqJsoVy"
      },
      "source": [
        "3) WAP to find whether given input is number or character."
      ]
    },
    {
      "cell_type": "code",
      "metadata": {
        "colab": {
          "base_uri": "https://localhost:8080/"
        },
        "id": "gsxFdD5qskuD",
        "outputId": "b6d0c75e-f162-418a-cb58-e015a740b6d6"
      },
      "source": [
        "numorchar=input(\"Enter string or number:\\n\")\n",
        "if numorchar.isnumeric()==True:\n",
        "  print(\"{} is a number.\".format(numorchar))\n",
        "else:\n",
        "    print(\"{} is a character.\".format(numorchar))\n",
        "\n",
        "\n"
      ],
      "execution_count": 3,
      "outputs": [
        {
          "output_type": "stream",
          "text": [
            "Enter string or number:\n",
            "45\n",
            "45 is a number.\n"
          ],
          "name": "stdout"
        }
      ]
    },
    {
      "cell_type": "markdown",
      "metadata": {
        "id": "JQNGXhbytxHE"
      },
      "source": [
        "4) Write a program to check whether the input alphabet is vowel or not using if-else."
      ]
    },
    {
      "cell_type": "code",
      "metadata": {
        "colab": {
          "base_uri": "https://localhost:8080/"
        },
        "id": "ldahKtldtqK6",
        "outputId": "a951bbcd-597c-4fc4-9ec7-c9e5d306a4f3"
      },
      "source": [
        "alphabet=input(\"Enter a alphabet.\\n\")\n",
        "vowel=('a','e','i','o','u','A','E','I','O','U')\n",
        "if alphabet in vowel:\n",
        "  print(\"{} is a vowel.\".format(alphabet))\n",
        "else:\n",
        "  print(\"{} is not a vowel.\".format(alphabet))"
      ],
      "execution_count": 4,
      "outputs": [
        {
          "output_type": "stream",
          "text": [
            "Enter a alphabet.\n",
            "A\n",
            "A is a vowel.\n"
          ],
          "name": "stdout"
        }
      ]
    },
    {
      "cell_type": "markdown",
      "metadata": {
        "id": "OZJGu4oCvsOq"
      },
      "source": [
        "5) Write a program to check whether the entered year is leap year or not.\n"
      ]
    },
    {
      "cell_type": "code",
      "metadata": {
        "colab": {
          "base_uri": "https://localhost:8080/"
        },
        "id": "u5dkuhmtvpdS",
        "outputId": "8041dc9d-4d7a-4eb0-b244-1547ec4ec8ab"
      },
      "source": [
        "year=int(input(\"Enter year:\\n\"))\n",
        "if year%4==0:\n",
        "  if year%100==0:\n",
        "    if year%400==0:\n",
        "      print(\"{} is a leap year.\".format(year))\n",
        "    else:\n",
        "            print(\"{} is not a leap year.\".format(year))\n",
        "  else:\n",
        "            print(\"{} is a leap year.\".format(year))\n",
        "else:\n",
        "        print(\"{} is not a leap year.\".format(year))"
      ],
      "execution_count": 5,
      "outputs": [
        {
          "output_type": "stream",
          "text": [
            "Enter year:\n",
            "2012\n",
            "2012 is a leap year.\n"
          ],
          "name": "stdout"
        }
      ]
    },
    {
      "cell_type": "markdown",
      "metadata": {
        "id": "I0rX2hxGziJs"
      },
      "source": [
        "6) Write a program to check if the number is Armstrong or not."
      ]
    },
    {
      "cell_type": "code",
      "metadata": {
        "colab": {
          "base_uri": "https://localhost:8080/"
        },
        "id": "gLRUyYBGzp3e",
        "outputId": "3fe770cc-774b-4065-8dd6-f282e132c426"
      },
      "source": [
        "num=input(\"Enter number:\\n\")\n",
        "sum=0\n",
        "i=0\n",
        "while i<len(num):\n",
        "  sum+=int(num[i])**3\n",
        "  i+=1\n",
        "if int(num)==sum:\n",
        "  print(\"{} is a armstrong number.\".format(num))\n",
        "else:\n",
        "    print(\"{} is not armstrong number.\".format(num))"
      ],
      "execution_count": 6,
      "outputs": [
        {
          "output_type": "stream",
          "text": [
            "Enter number:\n",
            "407\n",
            "407 is a armstrong number.\n"
          ],
          "name": "stdout"
        }
      ]
    },
    {
      "cell_type": "markdown",
      "metadata": {
        "id": "4BooajJRzq_T"
      },
      "source": [
        "7) Write a program to compute the grade from marks.\n",
        "  ![image.png](data:image/png;base64,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)\n",
        "\n",
        "\n"
      ]
    },
    {
      "cell_type": "code",
      "metadata": {
        "colab": {
          "base_uri": "https://localhost:8080/"
        },
        "id": "Z6rxUlWWzdw4",
        "outputId": "45538747-5682-41d7-c0a8-6d68b823154b"
      },
      "source": [
        "marks=int(input(\"Enter marks:\\n\"))\n",
        "print(\"You grade is \")\n",
        "if marks<=50:\n",
        "  print(\"F\")\n",
        "elif  60<=marks<=50:\n",
        "  print('E')\n",
        "elif 70<=marks<=60:\n",
        "  print(\"D\")\n",
        "elif 80>=marks<=70:\n",
        "  print(\"C\")\n",
        "elif 90>=marks<=80:\n",
        "  print(\"B\")\n",
        "elif 100>=marks<=90:\n",
        "  print(\"A\")"
      ],
      "execution_count": 7,
      "outputs": [
        {
          "output_type": "stream",
          "text": [
            "Enter marks:\n",
            "80\n",
            "You grade is \n",
            "B\n"
          ],
          "name": "stdout"
        }
      ]
    }
  ]
}