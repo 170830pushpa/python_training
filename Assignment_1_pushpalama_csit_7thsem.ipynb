{
  "nbformat": 4,
  "nbformat_minor": 0,
  "metadata": {
    "colab": {
      "name": "Assignment_1_pushpalama_csit_7thsem.ipynb",
      "provenance": [],
      "collapsed_sections": [],
      "authorship_tag": "ABX9TyORdWi+kK76AG4e+y9TXeZo",
      "include_colab_link": true
    },
    "kernelspec": {
      "display_name": "Python 3",
      "name": "python3"
    },
    "language_info": {
      "name": "python"
    }
  },
  "cells": [
    {
      "cell_type": "markdown",
      "metadata": {
        "id": "view-in-github",
        "colab_type": "text"
      },
      "source": [
        "<a href=\"https://colab.research.google.com/github/170830pushpa/python_training/blob/main/Assignment_1_pushpalama_csit_7thsem.ipynb\" target=\"_parent\"><img src=\"https://colab.research.google.com/assets/colab-badge.svg\" alt=\"Open In Colab\"/></a>"
      ]
    },
    {
      "cell_type": "markdown",
      "metadata": {
        "id": "M3i97kiKpljS"
      },
      "source": [
        "1) Write a python code to calculate Permutation (5,3)."
      ]
    },
    {
      "cell_type": "code",
      "metadata": {
        "colab": {
          "base_uri": "https://localhost:8080/"
        },
        "id": "NMOhu-uGxoDv",
        "outputId": "1a2fa76b-ead7-403d-dd7f-fa8b6c21f5fd"
      },
      "source": [
        "import math\n",
        "def fact(n):\n",
        "    if (n <= 1):\n",
        "        return 1\n",
        "         \n",
        "    return n * fact(n - 1)\n",
        " \n",
        "def per(n, r):\n",
        "     \n",
        "    return math.floor(fact(n) /\n",
        "                fact(n - r))\n",
        " \n",
        "print(\"Permutation of (5,3) is \", per(5, 3))"
      ],
      "execution_count": 1,
      "outputs": [
        {
          "output_type": "stream",
          "text": [
            "Permutation of (5,3) is  60\n"
          ],
          "name": "stdout"
        }
      ]
    },
    {
      "cell_type": "markdown",
      "metadata": {
        "id": "N6IMc_yHzJAx"
      },
      "source": [
        "2) Write a Python code to calculate combination (15,3)."
      ]
    },
    {
      "cell_type": "code",
      "metadata": {
        "colab": {
          "base_uri": "https://localhost:8080/"
        },
        "id": "chyLXgRYqK6o",
        "outputId": "364cd717-2c88-4ee4-f81c-d7daf06f9acc"
      },
      "source": [
        "import math\n",
        "def combi(n, r):\n",
        " \n",
        "    return (math.factorial(n) / (math.factorial(r)\n",
        "                * math.factorial(n - r)))\n",
        "print(\"Combination of (15,3) is \", int(combi(15, 3)))"
      ],
      "execution_count": 2,
      "outputs": [
        {
          "output_type": "stream",
          "text": [
            "Combination of (15,3) is  455\n"
          ],
          "name": "stdout"
        }
      ]
    },
    {
      "cell_type": "markdown",
      "metadata": {
        "id": "BF5-6b1SqNjW"
      },
      "source": [
        "3) Write a Python code that takes the degree as input from user and convert it into radian."
      ]
    },
    {
      "cell_type": "code",
      "metadata": {
        "colab": {
          "base_uri": "https://localhost:8080/"
        },
        "id": "UMk8LGXPqM6v",
        "outputId": "5da376a2-c457-448d-a16d-4b3465de96b8"
      },
      "source": [
        "import math\n",
        "val=float(input(\"Enter degree? \"))\n",
        "print(val,\"degree = \", math.radians(val),\"radians\" )"
      ],
      "execution_count": 3,
      "outputs": [
        {
          "output_type": "stream",
          "text": [
            "Enter degree? 120\n",
            "120.0 degree =  2.0943951023931953 radians\n"
          ],
          "name": "stdout"
        }
      ]
    },
    {
      "cell_type": "markdown",
      "metadata": {
        "id": "S0eS2CgRqc-d"
      },
      "source": [
        "4) Write a Python code that inputs from user and calculate its square root."
      ]
    },
    {
      "cell_type": "code",
      "metadata": {
        "colab": {
          "base_uri": "https://localhost:8080/"
        },
        "id": "yvAilizyqbtb",
        "outputId": "21f551e2-1a38-40fa-ec9f-3560771c678e"
      },
      "source": [
        "import math\n",
        "val=float(input(\"Enter value?  \"))\n",
        "print(\"square root of \",val, \"is\",math.sqrt(val))"
      ],
      "execution_count": 4,
      "outputs": [
        {
          "output_type": "stream",
          "text": [
            "Enter value?  9\n",
            "square root of  9.0 is 3.0\n"
          ],
          "name": "stdout"
        }
      ]
    },
    {
      "cell_type": "markdown",
      "metadata": {
        "id": "v2A5Hu_qqnWH"
      },
      "source": [
        "5) Write Python code to calculate LCM of (25,55)"
      ]
    },
    {
      "cell_type": "code",
      "metadata": {
        "colab": {
          "base_uri": "https://localhost:8080/"
        },
        "id": "UNbKj_tSqmaD",
        "outputId": "5ab08ed4-a91e-4bfb-b298-1a2989cdc716"
      },
      "source": [
        "def findlcm(a,b):\n",
        "  if a>b:\n",
        "    l=a\n",
        "  else:\n",
        "    l=b\n",
        "  while(True):  \n",
        "       if (l % a == 0) and (l % b == 0):  \n",
        "           lcm = l  \n",
        "           break  \n",
        "       l=l+1  \n",
        "  return lcm\n",
        "print(\"LCM od (25,55) is \",findlcm(25,55))\n"
      ],
      "execution_count": 5,
      "outputs": [
        {
          "output_type": "stream",
          "text": [
            "LCM od (25,55) is  275\n"
          ],
          "name": "stdout"
        }
      ]
    },
    {
      "cell_type": "markdown",
      "metadata": {
        "id": "oCsjVtFemvT9"
      },
      "source": [
        "6) Ask user too enter 2 numbers (say a, and b) . Generate 2 random numbers between those 2 numbers and find combination of these 2 newly genrateed random numbers."
      ]
    },
    {
      "cell_type": "code",
      "metadata": {
        "colab": {
          "base_uri": "https://localhost:8080/"
        },
        "id": "z4zQ2FjmmUv0",
        "outputId": "7b982249-05a2-49be-fd34-a396d17d01a9"
      },
      "source": [
        "import random\n",
        "import math\n",
        "a=int(input(\"Enter first number:  \"))\n",
        "b=int(input(\"Enter second number:  \"))\n",
        "def generate_ran_num(a,b):\n",
        "  return random.randint(a,b)\n",
        "def find_combination(a,b):\n",
        "  x=generate_ran_num(a,b)\n",
        "  y=generate_ran_num(a,b) \n",
        "  print(\"Generated random numbers are: \",x,\" and \" ,y)\n",
        "  return (math.factorial(x) / (math.factorial(y))* \n",
        "                               abs((math.factorial(x - y))))\n",
        "\n",
        "print(\"Combination  is \" , find_combination(a, b))\n",
        "\n",
        "\n",
        "\n"
      ],
      "execution_count": 13,
      "outputs": [
        {
          "output_type": "stream",
          "text": [
            "Enter first number:  2\n",
            "Enter second number:  12\n",
            "Generated random numbers are:  4  and  3\n",
            "Combination  is  4.0\n"
          ],
          "name": "stdout"
        }
      ]
    },
    {
      "cell_type": "markdown",
      "metadata": {
        "id": "rFb_e96suKbh"
      },
      "source": [
        "7) Divide 1000 by 3 and print answer with only 5 numbers after decimal."
      ]
    },
    {
      "cell_type": "code",
      "metadata": {
        "colab": {
          "base_uri": "https://localhost:8080/"
        },
        "id": "R9kPGXu6uJyD",
        "outputId": "9d992dab-576d-499c-aee0-5a32aa9a68dc"
      },
      "source": [
        "print(format((1000/3),\".5f\"))\n"
      ],
      "execution_count": 14,
      "outputs": [
        {
          "output_type": "stream",
          "text": [
            "333.33333\n"
          ],
          "name": "stdout"
        }
      ]
    },
    {
      "cell_type": "markdown",
      "metadata": {
        "id": "6-iZ9CIZvRaI"
      },
      "source": [
        "8) Write a program to convert 108 to binary."
      ]
    },
    {
      "cell_type": "code",
      "metadata": {
        "colab": {
          "base_uri": "https://localhost:8080/"
        },
        "id": "ujpej_gQvPJP",
        "outputId": "ed0843f6-9ed5-47ba-bf05-6c0836b0dd99"
      },
      "source": [
        "print(bin(108)[2:])"
      ],
      "execution_count": 15,
      "outputs": [
        {
          "output_type": "stream",
          "text": [
            "1101100\n"
          ],
          "name": "stdout"
        }
      ]
    },
    {
      "cell_type": "markdown",
      "metadata": {
        "id": "M9hisHXnwGBP"
      },
      "source": [
        "9)   Write a program to convert 1008 to hexadecimal."
      ]
    },
    {
      "cell_type": "code",
      "metadata": {
        "colab": {
          "base_uri": "https://localhost:8080/"
        },
        "id": "QvLhgvWLwE6r",
        "outputId": "ad48abd5-d5b0-4946-8868-639b343ee176"
      },
      "source": [
        "print(hex(1008)[2:])"
      ],
      "execution_count": 16,
      "outputs": [
        {
          "output_type": "stream",
          "text": [
            "3f0\n"
          ],
          "name": "stdout"
        }
      ]
    },
    {
      "cell_type": "markdown",
      "metadata": {
        "id": "1KlB-IJfwSH5"
      },
      "source": [
        "10)  Write a summary of everything in this class."
      ]
    },
    {
      "cell_type": "markdown",
      "metadata": {
        "id": "ihsprZYawd7i"
      },
      "source": [
        "=> We started with basics of python programming. We learned how to use Google Colab for python programming then we moved to learn basics of programming language such as printing method,variable declaration methods, user input taking method. And we learned various string operations and various data types(int,float,complex) and various operations on them. We also looked at predefined library importing mechanism by importing math and random. And we used various predefined function under math library (cos, acos, floor, degrees, exp, ceil, fabs, factorial, gcd, log, log2, e, pi, inf ). Then we looked at print formatting in python. In this class we discussed about introductory part of python programming."
      ]
    }
  ]
}