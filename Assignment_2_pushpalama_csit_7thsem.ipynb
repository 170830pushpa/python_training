{
  "nbformat": 4,
  "nbformat_minor": 0,
  "metadata": {
    "colab": {
      "name": "Assignment_2_pushpalama_csit_7thsem.ipynb",
      "provenance": [],
      "collapsed_sections": [],
      "authorship_tag": "ABX9TyNW4IAwdA2yW3/TWA/6Sji8",
      "include_colab_link": true
    },
    "kernelspec": {
      "name": "python3",
      "display_name": "Python 3"
    },
    "language_info": {
      "name": "python"
    }
  },
  "cells": [
    {
      "cell_type": "markdown",
      "metadata": {
        "id": "view-in-github",
        "colab_type": "text"
      },
      "source": [
        "<a href=\"https://colab.research.google.com/github/170830pushpa/python_training/blob/main/Assignment_2_pushpalama_csit_7thsem.ipynb\" target=\"_parent\"><img src=\"https://colab.research.google.com/assets/colab-badge.svg\" alt=\"Open In Colab\"/></a>"
      ]
    },
    {
      "cell_type": "markdown",
      "metadata": {
        "id": "tqnGcs2AKa4N"
      },
      "source": [
        "                       ** Assignment 2:Tuples**"
      ]
    },
    {
      "cell_type": "markdown",
      "metadata": {
        "id": "4fxO1mudK5pe"
      },
      "source": [
        "1) Python program to conver tuple into list."
      ]
    },
    {
      "cell_type": "code",
      "metadata": {
        "colab": {
          "base_uri": "https://localhost:8080/"
        },
        "id": "OhY5jfKjKV3l",
        "outputId": "b9278219-9ad5-4583-ccbf-0b1b570cfc97"
      },
      "source": [
        "a=(\"Nepal\",\"India\",\"China\",1,2,3) #tuple\n",
        "print(type(a))\n",
        "print(a)\n",
        "print(\"===========================================\")\n",
        "lst=list(a) #tuple to list\n",
        "print(type(lst))\n",
        "print(lst)"
      ],
      "execution_count": 1,
      "outputs": [
        {
          "output_type": "stream",
          "text": [
            "<class 'tuple'>\n",
            "('Nepal', 'India', 'China', 1, 2, 3)\n",
            "===========================================\n",
            "<class 'list'>\n",
            "['Nepal', 'India', 'China', 1, 2, 3]\n"
          ],
          "name": "stdout"
        }
      ]
    },
    {
      "cell_type": "markdown",
      "metadata": {
        "id": "_eoA5mfvL5mJ"
      },
      "source": [
        "2) Write a program to calculate direction and magnitude of the vector described by the following points.\n",
        "A = (20,30)\n",
        "B = (30,40)\n"
      ]
    },
    {
      "cell_type": "code",
      "metadata": {
        "colab": {
          "base_uri": "https://localhost:8080/"
        },
        "id": "hcDhEfOkL4rY",
        "outputId": "fc9a7f42-bb21-4fcc-8ec4-e1f4eb2edf86"
      },
      "source": [
        "import math\n",
        "# A(x1,y1)--->A(20,30)  B(x2,y2)---->B(30,40)\n",
        "# ab(x1,x2,y1,y2)--->ab=(20,30,30,40)--tuple\n",
        "ab=(20,30,30,40)\n",
        "def magnitude(ab):\n",
        "  return math.sqrt(((ab[1]-ab[0])*(ab[1]-ab[0]))+((ab[3]-ab[2])*(ab[3]-ab[2])))\n",
        "def direction(ab):\n",
        "  t=math.atan( (ab[3]-ab[2])/(ab[1]-ab[0]))\n",
        "  return math.degrees(t)\n",
        "print(\"A=(20,30)  B=(30,40)\")\n",
        "print(\"----------------------\")\n",
        "print(\"Magnitude of vector= \",format(magnitude(ab),\".3f\"))\n",
        "print(\" Direction of a vector=\",format(direction(ab),\".3f\"),\"degrees\")"
      ],
      "execution_count": 2,
      "outputs": [
        {
          "output_type": "stream",
          "text": [
            "A=(20,30)  B=(30,40)\n",
            "----------------------\n",
            "Magnitude of vector=  14.142\n",
            " Direction of a vector= 45.000 degrees\n"
          ],
          "name": "stdout"
        }
      ]
    },
    {
      "cell_type": "markdown",
      "metadata": {
        "id": "QzAT4yiJMDsq"
      },
      "source": [
        "3) Write a program to demonstrate data types that can be elements of a tuple."
      ]
    },
    {
      "cell_type": "code",
      "metadata": {
        "colab": {
          "base_uri": "https://localhost:8080/"
        },
        "id": "TDXy2i4hMCxj",
        "outputId": "755bae61-5610-4723-bb0b-94ee77ba6db5"
      },
      "source": [
        "a=(1,True,\"Nepal\",3.5,5j,(\"Nepal\",\"India\"),[2,2,3,4],{'Firstname':'Pushpa','Lastname':'Lama'},range(6),{1,2,3},b\"pushpa\",bytearray(1),memoryview(bytes(4))) #tuple with differet data types elements.\n",
        "print(\"Datatyes in tuple:  \")\n",
        "for i in a:\n",
        "  print(\"=================\")\n",
        "  print(type(i))\n",
        "  print(i)\n",
        "print(\"=====================================================================\")\n"
      ],
      "execution_count": 3,
      "outputs": [
        {
          "output_type": "stream",
          "text": [
            "Datatyes in tuple:  \n",
            "=================\n",
            "<class 'int'>\n",
            "1\n",
            "=================\n",
            "<class 'bool'>\n",
            "True\n",
            "=================\n",
            "<class 'str'>\n",
            "Nepal\n",
            "=================\n",
            "<class 'float'>\n",
            "3.5\n",
            "=================\n",
            "<class 'complex'>\n",
            "5j\n",
            "=================\n",
            "<class 'tuple'>\n",
            "('Nepal', 'India')\n",
            "=================\n",
            "<class 'list'>\n",
            "[2, 2, 3, 4]\n",
            "=================\n",
            "<class 'dict'>\n",
            "{'Firstname': 'Pushpa', 'Lastname': 'Lama'}\n",
            "=================\n",
            "<class 'range'>\n",
            "range(0, 6)\n",
            "=================\n",
            "<class 'set'>\n",
            "{1, 2, 3}\n",
            "=================\n",
            "<class 'bytes'>\n",
            "b'pushpa'\n",
            "=================\n",
            "<class 'bytearray'>\n",
            "bytearray(b'\\x00')\n",
            "=================\n",
            "<class 'memoryview'>\n",
            "<memory at 0x7f8c2180fd50>\n",
            "=====================================================================\n"
          ],
          "name": "stdout"
        }
      ]
    }
  ]
}