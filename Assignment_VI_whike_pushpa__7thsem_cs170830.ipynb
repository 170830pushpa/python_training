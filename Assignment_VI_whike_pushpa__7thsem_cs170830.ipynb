{
  "nbformat": 4,
  "nbformat_minor": 0,
  "metadata": {
    "colab": {
      "name": "Assignment_VI_whike_pushpa__7thsem_cs170830.ipynb",
      "provenance": [],
      "authorship_tag": "ABX9TyMoNSkHg1wqEGyVAOCg+Wu6",
      "include_colab_link": true
    },
    "kernelspec": {
      "name": "python3",
      "display_name": "Python 3"
    },
    "language_info": {
      "name": "python"
    }
  },
  "cells": [
    {
      "cell_type": "markdown",
      "metadata": {
        "id": "view-in-github",
        "colab_type": "text"
      },
      "source": [
        "<a href=\"https://colab.research.google.com/github/170830pushpa/python_training/blob/main/Assignment_VI_whike_pushpa__7thsem_cs170830.ipynb\" target=\"_parent\"><img src=\"https://colab.research.google.com/assets/colab-badge.svg\" alt=\"Open In Colab\"/></a>"
      ]
    },
    {
      "cell_type": "markdown",
      "metadata": {
        "id": "iZgunuD7nsAW"
      },
      "source": [
        "                    ***Assignment-VI***"
      ]
    },
    {
      "cell_type": "markdown",
      "metadata": {
        "id": "KiNKO6wen2gH"
      },
      "source": [
        "1) bird = ['crows','pigeon','eagles','falcon','pigeon','falcon',     'falcon']\n",
        "Remove all the duplicates from the following list using while.\n",
        "\n",
        "\n"
      ]
    },
    {
      "cell_type": "code",
      "metadata": {
        "colab": {
          "base_uri": "https://localhost:8080/"
        },
        "id": "LU0QI6AdngOl",
        "outputId": "9b4e4b20-4277-48d1-915d-91bdcd66e03f"
      },
      "source": [
        "bird = ['crows','pigeon','eagles','falcon','pigeon','falcon','falcon']\n",
        "new_bird=[]\n",
        "i=0;\n",
        "while i<len(bird):\n",
        "  if bird[i] not in new_bird:\n",
        "    new_bird.append(bird[i])\n",
        "  i+=1\n",
        "print(new_bird)"
      ],
      "execution_count": 4,
      "outputs": [
        {
          "output_type": "stream",
          "text": [
            "['crows', 'pigeon', 'eagles', 'falcon']\n"
          ],
          "name": "stdout"
        }
      ]
    },
    {
      "cell_type": "markdown",
      "metadata": {
        "id": "xVnsPd13qO07"
      },
      "source": [
        "2) Deli: Make a list called sandwich_orders and fill it with the names of various sandwiches. Then make an empty list called finished_sandwiches . Loop through the list of sandwich orders and print a message for each order, such as I made your tuna sandwich. As each sandwich is made, move it to the list of finished sandwiches. After all the sandwiches have been made, print a message listing each sandwich that was made.\n",
        "\n"
      ]
    },
    {
      "cell_type": "code",
      "metadata": {
        "colab": {
          "base_uri": "https://localhost:8080/"
        },
        "id": "YDzn9thAqN5f",
        "outputId": "e5f14496-9d5a-417d-cc9b-94a3fe492c2e"
      },
      "source": [
        "sandwich_orders=['Chicken Sandwich','Egg Sandwich','Fish Sandwich','Cheese Sandwich', 'Ham Sandwich', 'Salmon Sandwich','Veg Sandwich']\n",
        "finished_sandwiches=[]\n",
        "i=0\n",
        "while i<len(sandwich_orders):\n",
        "  print(\"\\nI made your \"+sandwich_orders[i])\n",
        "  finished_sandwiches.append(sandwich_orders[i])\n",
        "  i+=1\n",
        "print(\"\\n==================================================\\n\")\n",
        "print(\"\\nAll sandwich orders are done. Orders are \")\n",
        "print(\"\\n==================================================\\n\")\n",
        "i=0\n",
        "while i<len(finished_sandwiches):\n",
        "  print(\"\\n\"+finished_sandwiches[i])\n",
        "  i+=1;\n"
      ],
      "execution_count": 2,
      "outputs": [
        {
          "output_type": "stream",
          "text": [
            "\n",
            "I made your Chicken Sandwich\n",
            "\n",
            "I made your Egg Sandwich\n",
            "\n",
            "I made your Fish Sandwich\n",
            "\n",
            "I made your Cheese Sandwich\n",
            "\n",
            "I made your Ham Sandwich\n",
            "\n",
            "I made your Salmon Sandwich\n",
            "\n",
            "I made your Veg Sandwich\n",
            "\n",
            "==================================================\n",
            "\n",
            "\n",
            "All sandwich orders are done. Orders are \n",
            "\n",
            "==================================================\n",
            "\n",
            "\n",
            "Chicken Sandwich\n",
            "\n",
            "Egg Sandwich\n",
            "\n",
            "Fish Sandwich\n",
            "\n",
            "Cheese Sandwich\n",
            "\n",
            "Ham Sandwich\n",
            "\n",
            "Salmon Sandwich\n",
            "\n",
            "Veg Sandwich\n"
          ],
          "name": "stdout"
        }
      ]
    },
    {
      "cell_type": "markdown",
      "metadata": {
        "id": "3jXVxhuluHM3"
      },
      "source": [
        "3) Dream Vacation: Write a program that polls users about their dream vacation. Write a prompt similar to If you could visit one place in the world, where would you go? Include a block of code that prints the results of the poll."
      ]
    },
    {
      "cell_type": "code",
      "metadata": {
        "colab": {
          "base_uri": "https://localhost:8080/"
        },
        "id": "o2QZCtDXuGef",
        "outputId": "9503588e-a7ae-4e58-ab0a-e4476e075e24"
      },
      "source": [
        "dream_vacation=[]\n",
        "while True:\n",
        "  place=input(\" If you could visit one place in the world, where would you go?\\n\")\n",
        "  dream_vacation.append(place)\n",
        "  prompt=input(\"Press '1' to end\\n\")\n",
        "  if prompt=='1':\n",
        "    break\n",
        "i=0\n",
        "poll={}\n",
        "while i<len(dream_vacation):\n",
        "    if dream_vacation[i] not in poll.keys():\n",
        "      poll[dream_vacation[i]]=1\n",
        "    else:\n",
        "      poll[dream_vacation[i]]+=1\n",
        "    i+=1\n",
        "print(\"Polling result for polls taken with {} people is \\n \".format(len(dream_vacation)))\n",
        "print(poll)\n",
        "      "
      ],
      "execution_count": 3,
      "outputs": [
        {
          "output_type": "stream",
          "text": [
            " If you could visit one place in the world, where would you go?\n",
            "Nepal\n",
            "Press '1' to end\n",
            "a\n",
            " If you could visit one place in the world, where would you go?\n",
            "Nepal\n",
            "Press '1' to end\n",
            "c\n",
            " If you could visit one place in the world, where would you go?\n",
            "India\n",
            "Press '1' to end\n",
            "Nepal\n",
            " If you could visit one place in the world, where would you go?\n",
            "Nepal\n",
            "Press '1' to end\n",
            "a\n",
            " If you could visit one place in the world, where would you go?\n",
            "Bali\n",
            "Press '1' to end\n",
            "a\n",
            " If you could visit one place in the world, where would you go?\n",
            "Bali\n",
            "Press '1' to end\n",
            "Bali\n",
            " If you could visit one place in the world, where would you go?\n",
            "Bali\n",
            "Press '1' to end\n",
            "a\n",
            " If you could visit one place in the world, where would you go?\n",
            "Bali\n",
            "Press '1' to end\n",
            "a\n",
            " If you could visit one place in the world, where would you go?\n",
            "Thailand\n",
            "Press '1' to end\n",
            "a\n",
            " If you could visit one place in the world, where would you go?\n",
            "Thailand\n",
            "Press '1' to end\n",
            "a\n",
            " If you could visit one place in the world, where would you go?\n",
            "Thailand\n",
            "Press '1' to end\n",
            "v\n",
            " If you could visit one place in the world, where would you go?\n",
            "Thailand\n",
            "Press '1' to end\n",
            "Thailand\n",
            " If you could visit one place in the world, where would you go?\n",
            "Thailand\n",
            "Press '1' to end\n",
            "Thailand\n",
            " If you could visit one place in the world, where would you go?\n",
            "Thailand\n",
            "Press '1' to end\n",
            "Thailand\n",
            " If you could visit one place in the world, where would you go?\n",
            "Thailand\n",
            "Press '1' to end\n",
            "Thailand\n",
            " If you could visit one place in the world, where would you go?\n",
            "Thailand\n",
            "Press '1' to end\n",
            "China\n",
            " If you could visit one place in the world, where would you go?\n",
            "China\n",
            "Press '1' to end\n",
            "Paris\n",
            " If you could visit one place in the world, where would you go?\n",
            "Paris\n",
            "Press '1' to end\n",
            "a\n",
            " If you could visit one place in the world, where would you go?\n",
            "Paris\n",
            "Press '1' to end\n",
            "Italy\n",
            " If you could visit one place in the world, where would you go?\n",
            "Italy\n",
            "Press '1' to end\n",
            "1\n",
            "Polling result for polls taken with 20 people is \n",
            " \n",
            "{'Nepal': 3, 'India': 1, 'Bali': 4, 'Thailand': 8, 'China': 1, 'Paris': 2, 'Italy': 1}\n"
          ],
          "name": "stdout"
        }
      ]
    }
  ]
}