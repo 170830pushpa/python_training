{
  "nbformat": 4,
  "nbformat_minor": 0,
  "metadata": {
    "colab": {
      "name": "Asignment_X_Numpy_pushpa_7thsem_cs170830.ipynb",
      "provenance": [],
      "collapsed_sections": [],
      "authorship_tag": "ABX9TyMuEcnMIAlKhD3Oe9loVdM+",
      "include_colab_link": true
    },
    "kernelspec": {
      "name": "python3",
      "display_name": "Python 3"
    },
    "language_info": {
      "name": "python"
    }
  },
  "cells": [
    {
      "cell_type": "markdown",
      "metadata": {
        "id": "view-in-github",
        "colab_type": "text"
      },
      "source": [
        "<a href=\"https://colab.research.google.com/github/170830pushpa/python_training/blob/main/Asignment_X_Numpy_pushpa_7thsem_cs170830.ipynb\" target=\"_parent\"><img src=\"https://colab.research.google.com/assets/colab-badge.svg\" alt=\"Open In Colab\"/></a>"
      ]
    },
    {
      "cell_type": "markdown",
      "metadata": {
        "id": "8dNsYgDHQbe_"
      },
      "source": [
        "                      ***Assignment*** "
      ]
    },
    {
      "cell_type": "markdown",
      "metadata": {
        "id": "eB56Q2ttQa76"
      },
      "source": [
        "1) Find the inverse of the following matrices\n",
        "  A =[[1,2,3][55,66,77]]       B=[[1,2,3][55,66,77][6,7,12]]      C=[1,2,3,8][5,6,7,5],[6,7,12,12][11,12,13,20]]"
      ]
    },
    {
      "cell_type": "code",
      "metadata": {
        "colab": {
          "base_uri": "https://localhost:8080/"
        },
        "id": "fI3QFZlyQQGK",
        "outputId": "4c386295-80ca-4ab0-f399-88e91e86f194"
      },
      "source": [
        "import numpy as np\n",
        "A=np.array([[1,2,3],\n",
        "            [55,66,77]])\n",
        "B=np.array([[1,2,3],\n",
        "            [55,66,77],\n",
        "            [6,7,12]])\n",
        "C=np.array([[1,2,3,8],\n",
        "            [5,6,7,5],\n",
        "            [6,7,12,12],\n",
        "            [11,12,13,20]])\n",
        "\n",
        "def invertornot(A):\n",
        "  if len(A)==len(A[0]):\n",
        "    if np.linalg.det(A)!=0:\n",
        "      return True\n",
        "    else:\n",
        "      return False\n",
        "  else:\n",
        "    return False \n",
        "print(\"\\n================================================\")\n",
        "if invertornot(A)==True:\n",
        "  print(\"Inverse of A is:\\r\")\n",
        "  print(np.linalg.inv(A))\n",
        "else:\n",
        "  print(\"Matrx is not invertible.\")\n",
        "print(\"\\n=================================================\")\n",
        "if invertornot(B)==True:\n",
        "  print(\"Inverse of B is:\\r\")\n",
        "  print(np.linalg.inv(B))\n",
        "else:\n",
        "    print(\"Matrx is not invertible.\")\n",
        "print(\"\\n====================================================\")\n",
        "if invertornot(C)==True:\n",
        "  print(\"Inverse of C is:\\r\")\n",
        "  print(np.linalg.inv(C))\n",
        "else:\n",
        "    print(\"Matrx is not invertible.\")"
      ],
      "execution_count": 1,
      "outputs": [
        {
          "output_type": "stream",
          "text": [
            "\n",
            "================================================\n",
            "Matrx is not invertible.\n",
            "\n",
            "=================================================\n",
            "Inverse of B is:\r\n",
            "[[-1.4375      0.01704545  0.25      ]\n",
            " [ 1.125       0.03409091 -0.5       ]\n",
            " [ 0.0625     -0.02840909  0.25      ]]\n",
            "\n",
            "====================================================\n",
            "Inverse of C is:\r\n",
            "[[-0.85576923 -0.78205128  0.25        0.38782051]\n",
            " [ 0.75        1.         -0.5        -0.25      ]\n",
            " [-0.08653846 -0.06410256  0.25       -0.09935897]\n",
            " [ 0.07692308 -0.12820513 -0.          0.05128205]]\n"
          ],
          "name": "stdout"
        }
      ]
    },
    {
      "cell_type": "markdown",
      "metadata": {
        "id": "42ieKzI5l232"
      },
      "source": [
        "2) Find the values of x1, x2 and x3       \n",
        "5x1 + 4 x2 + 3 x3 = 5                \n",
        "6x1 - 8x2   + 7x3 = 15           \n",
        "X1   - x2     +10x3 = 25 \n"
      ]
    },
    {
      "cell_type": "code",
      "metadata": {
        "colab": {
          "base_uri": "https://localhost:8080/"
        },
        "id": "DI0DFWPwl1Z1",
        "outputId": "a560dcee-9da6-44a7-cec8-dd35338dd520"
      },
      "source": [
        "A=np.array([[5,4,3],\n",
        "   [6,8,7],\n",
        "    [1,-1,10]])\n",
        "B=np.array([5,15,25])\n",
        "#AX=B\n",
        "#X=(inverse of A)*B\n",
        "print(\"\\n================================================\")\n",
        "if invertornot(A)==True:\n",
        "  np.linalg.inv(A)\n",
        "  re=np.dot((np.linalg.inv(A)),B)\n",
        "  x1=re[0]\n",
        "  x2=re[1]\n",
        "  x3=re[2]\n",
        "  print(\"x1= {}\\nx2= {}\\nx3= {}\".format(x1,x2,x3))\n",
        "else:\n",
        "  print(\"\\nError:    Matrix is not invertible\")\n",
        "\n"
      ],
      "execution_count": 2,
      "outputs": [
        {
          "output_type": "stream",
          "text": [
            "\n",
            "================================================\n",
            "x1= -0.6077348066298343\n",
            "x2= 0.08287292817679544\n",
            "x3= 2.569060773480663\n"
          ],
          "name": "stdout"
        }
      ]
    },
    {
      "cell_type": "markdown",
      "metadata": {
        "id": "CDLTpBykuBy2"
      },
      "source": [
        "3) Write a NumPy program to create an array of 10 zeros,10 ones, 10 fives."
      ]
    },
    {
      "cell_type": "code",
      "metadata": {
        "colab": {
          "base_uri": "https://localhost:8080/"
        },
        "id": "t2UeVh5Xt55N",
        "outputId": "14df6b52-9a79-48e0-8e8f-93021d206d12"
      },
      "source": [
        "Zero=np.zeros(10)\n",
        "one=np.ones(10)\n",
        "five=np.ones(10)*5\n",
        "print(\"\\n================================================\")\n",
        "print(Zero)\n",
        "print(\"\\n================================================\")\n",
        "print(one)\n",
        "print(\"\\n================================================\")\n",
        "print(five)"
      ],
      "execution_count": 3,
      "outputs": [
        {
          "output_type": "stream",
          "text": [
            "\n",
            "================================================\n",
            "[0. 0. 0. 0. 0. 0. 0. 0. 0. 0.]\n",
            "\n",
            "================================================\n",
            "[1. 1. 1. 1. 1. 1. 1. 1. 1. 1.]\n",
            "\n",
            "================================================\n",
            "[5. 5. 5. 5. 5. 5. 5. 5. 5. 5.]\n"
          ],
          "name": "stdout"
        }
      ]
    },
    {
      "cell_type": "markdown",
      "metadata": {
        "id": "k3sh2LRgv3hu"
      },
      "source": [
        "4) Write a NumPy program to compute the eigenvalues and eigenvectors of a given square array.     B=[[1,2,3],[55,66,7],[6,7,12],]"
      ]
    },
    {
      "cell_type": "code",
      "metadata": {
        "colab": {
          "base_uri": "https://localhost:8080/"
        },
        "id": "393Gh2p7vrJZ",
        "outputId": "a8afe994-5835-4c8c-c961-0fa53eaefed8"
      },
      "source": [
        "import numpy as np\n",
        "B=np.array([[1,2,3],\n",
        "    [55,66,7],\n",
        "    [6,7,12]])\n",
        "print(\"Eigen vector and eigen values of B matrix  are \\r\")\n",
        "print(np.linalg.eig(B))\n"
      ],
      "execution_count": 4,
      "outputs": [
        {
          "output_type": "stream",
          "text": [
            "Eigen vector and eigen values of B matrix  are \r\n",
            "(array([68.81905127, -0.70229368, 10.88324241]), array([[ 0.03480353,  0.77221412,  0.21267997],\n",
            "       [ 0.99144253, -0.6351919 , -0.32907749],\n",
            "       [ 0.12581905, -0.01471714,  0.92004089]]))\n"
          ],
          "name": "stdout"
        }
      ]
    },
    {
      "cell_type": "markdown",
      "metadata": {
        "id": "7UQFurEUqw6G"
      },
      "source": [
        "5) Write a NumPy program to generate five random numbers from the normal distribution."
      ]
    },
    {
      "cell_type": "code",
      "metadata": {
        "colab": {
          "base_uri": "https://localhost:8080/"
        },
        "id": "Wo-ZUnvHqvyn",
        "outputId": "4db188ed-abc6-4bf7-e0c6-2da7d26c947a"
      },
      "source": [
        "print(\"five random numbers from the normal distribution are\\r\")\n",
        "print(np.random.normal(size=5))"
      ],
      "execution_count": 5,
      "outputs": [
        {
          "output_type": "stream",
          "text": [
            "five random numbers from the normal distribution are\r\n",
            "[ 0.5612019   1.89956997 -0.12249628 -0.67146563 -0.81272307]\n"
          ],
          "name": "stdout"
        }
      ]
    },
    {
      "cell_type": "markdown",
      "metadata": {
        "id": "X_6tq99ArnCA"
      },
      "source": [
        "6) Write a NumPy program to generate six random integers between 10 and 30."
      ]
    },
    {
      "cell_type": "code",
      "metadata": {
        "colab": {
          "base_uri": "https://localhost:8080/"
        },
        "id": "4nP4bCsLrlNz",
        "outputId": "763d44ec-d6d0-4386-fde0-3d5e466f271d"
      },
      "source": [
        "print(\" six random integers between 10 and 30 are\\r\")\n",
        "print(np.random.randint(low=10,high=30,size=6))"
      ],
      "execution_count": 6,
      "outputs": [
        {
          "output_type": "stream",
          "text": [
            " six random integers between 10 and 30 are\r\n",
            "[13 12 16 22 24 22]\n"
          ],
          "name": "stdout"
        }
      ]
    },
    {
      "cell_type": "markdown",
      "metadata": {
        "id": "q-R_347FtEKj"
      },
      "source": [
        "7) Write a NumPy program to create a 3x3x3 array with random values."
      ]
    },
    {
      "cell_type": "code",
      "metadata": {
        "colab": {
          "base_uri": "https://localhost:8080/"
        },
        "id": "lDFoX1-ctDQr",
        "outputId": "751d66c8-b929-4952-d029-fef48244ef65"
      },
      "source": [
        "A=np.random.random((3,3,3))\n",
        "print(\"A 3x3x3 array with random values =\\n\")\n",
        "print(A)"
      ],
      "execution_count": 7,
      "outputs": [
        {
          "output_type": "stream",
          "text": [
            "A 3x3x3 array with random values =\n",
            "\n",
            "[[[0.48348816 0.90169996 0.94921784]\n",
            "  [0.7976582  0.05368493 0.0250044 ]\n",
            "  [0.19065021 0.39303276 0.7364894 ]]\n",
            "\n",
            " [[0.44353613 0.34306593 0.61538963]\n",
            "  [0.91634418 0.12044165 0.2556162 ]\n",
            "  [0.73235198 0.046089   0.34343216]]\n",
            "\n",
            " [[0.03246868 0.295643   0.62595383]\n",
            "  [0.09551582 0.71169679 0.15402826]\n",
            "  [0.89068735 0.3512237  0.5411597 ]]]\n"
          ],
          "name": "stdout"
        }
      ]
    },
    {
      "cell_type": "markdown",
      "metadata": {
        "id": "ToaDjRKlunVV"
      },
      "source": [
        "8) Write a NumPy program to create a 5x5 array with random values and find the minimum and maximum values."
      ]
    },
    {
      "cell_type": "code",
      "metadata": {
        "colab": {
          "base_uri": "https://localhost:8080/"
        },
        "id": "d6TXVWVQuj1f",
        "outputId": "c86cf9b8-32a1-46b3-f75a-4c9c61f2b5f5"
      },
      "source": [
        "A=np.random.random((5,5))\n",
        "print(\"A 5*5 array with random values =\\n\")\n",
        "print(A)\n",
        "print(\"======================================================\\n\")\n",
        "max=np.amax(A)\n",
        "print(\"Maximum value in above matrix is    \",max)"
      ],
      "execution_count": 8,
      "outputs": [
        {
          "output_type": "stream",
          "text": [
            "A 5*5 array with random values =\n",
            "\n",
            "[[0.5178659  0.55808825 0.0486964  0.28278184 0.6794651 ]\n",
            " [0.71269424 0.70985814 0.36408651 0.33675198 0.7988078 ]\n",
            " [0.39164864 0.77527008 0.17587269 0.76251437 0.94329545]\n",
            " [0.07582608 0.48916235 0.42799381 0.35684081 0.37108917]\n",
            " [0.59537959 0.85975489 0.72822424 0.87279348 0.9343986 ]]\n",
            "======================================================\n",
            "\n",
            "Maximum value in above matrix is     0.9432954517436761\n"
          ],
          "name": "stdout"
        }
      ]
    },
    {
      "cell_type": "markdown",
      "metadata": {
        "id": "NbyxZ8mmvbfy"
      },
      "source": [
        "9) Write a NumPy program to normalize a 3x3 random matrix."
      ]
    },
    {
      "cell_type": "code",
      "metadata": {
        "colab": {
          "base_uri": "https://localhost:8080/"
        },
        "id": "H5VF12XfvalX",
        "outputId": "80fd8be6-8c43-4cd9-e7d7-bf8ef4627a4c"
      },
      "source": [
        "A=np.random.random((3,3))\n",
        "print(\"A 3*3 random matrix is \\n\")\n",
        "print(A)\n",
        "print(\"===============================\")\n",
        "print(\"Normalized matrix is \\n\",(A/(np.linalg.norm(A))))"
      ],
      "execution_count": 9,
      "outputs": [
        {
          "output_type": "stream",
          "text": [
            "A 3*3 random matrix is \n",
            "\n",
            "[[0.9833543  0.99186596 0.72419963]\n",
            " [0.56714167 0.39669617 0.38616644]\n",
            " [0.61736616 0.26360439 0.44823321]]\n",
            "===============================\n",
            "Normalized matrix is \n",
            " [[0.50746836 0.51186088 0.37372939]\n",
            " [0.29267829 0.20471844 0.19928448]\n",
            " [0.31859707 0.13603529 0.23131457]]\n"
          ],
          "name": "stdout"
        }
      ]
    },
    {
      "cell_type": "markdown",
      "metadata": {
        "id": "3bAY5cGEwsR2"
      },
      "source": [
        "10) Write a NumPy program to create a random vector of size 10 and sort it"
      ]
    },
    {
      "cell_type": "code",
      "metadata": {
        "colab": {
          "base_uri": "https://localhost:8080/"
        },
        "id": "asSkdB88woPE",
        "outputId": "4dbf38f3-257b-4892-a4bd-74eb58146dc7"
      },
      "source": [
        "A=np.random.random(10)\n",
        "print(\"Random vector of size 10 is \\n\")\n",
        "print(A)\n",
        "print(\"================================================================\\n\")\n",
        "A.sort()\n",
        "print(\"Sorted vector is\\n\",A)\n"
      ],
      "execution_count": 10,
      "outputs": [
        {
          "output_type": "stream",
          "text": [
            "Random vector of size 10 is \n",
            "\n",
            "[0.00159429 0.90855721 0.01947294 0.44909592 0.3790225  0.90920007\n",
            " 0.55687582 0.01553883 0.10163561 0.06885   ]\n",
            "================================================================\n",
            "\n",
            "Sorted vector is\n",
            " [0.00159429 0.01553883 0.01947294 0.06885    0.10163561 0.3790225\n",
            " 0.44909592 0.55687582 0.90855721 0.90920007]\n"
          ],
          "name": "stdout"
        }
      ]
    },
    {
      "cell_type": "markdown",
      "metadata": {
        "id": "l94ozzlGx5bu"
      },
      "source": [
        "11) Write a NumPy program to check if two random arrays are equal or not"
      ]
    },
    {
      "cell_type": "code",
      "metadata": {
        "colab": {
          "base_uri": "https://localhost:8080/"
        },
        "id": "adxkaw82x4G6",
        "outputId": "46cce28f-ce43-4a0b-f4b8-2ae0c93355fb"
      },
      "source": [
        "A=np.random.randint(0,2,5)\n",
        "B=np.random.randint(0,2,5)\n",
        "print(\"A=\\r\")\n",
        "print(A)\n",
        "print(\"B=\\r\")\n",
        "print(B)\n",
        "print(\"=========================================\")\n",
        "if np.allclose(A,B)==True:\n",
        "  print(\"A and B are equal.\")\n",
        "else:\n",
        "  print(\"A and B are not equal.\")"
      ],
      "execution_count": 11,
      "outputs": [
        {
          "output_type": "stream",
          "text": [
            "A=\r\n",
            "[1 0 1 0 1]\n",
            "B=\r\n",
            "[0 0 1 0 1]\n",
            "=========================================\n",
            "A and B are not equal.\n"
          ],
          "name": "stdout"
        }
      ]
    },
    {
      "cell_type": "markdown",
      "metadata": {
        "id": "WkK6VKYcz4xn"
      },
      "source": [
        "12) Write a NumPy program to create a random vector of size 15 and replace the maximum value by -1"
      ]
    },
    {
      "cell_type": "code",
      "metadata": {
        "colab": {
          "base_uri": "https://localhost:8080/"
        },
        "id": "YSRAsvYuzwdJ",
        "outputId": "c0009421-1570-4689-a055-b221e37221f7"
      },
      "source": [
        "A=np.random.random(15)\n",
        "print(\"A random vector of size 15 is \\n\")\n",
        "print(A)\n",
        "max=np.amax(A)\n",
        "max_pos=np.argmax(A)\n",
        "print(\"=========================================================================\\n\")\n",
        "print(\"Maximum value in vector is  \",max)\n",
        "print(\"=========================================================================\\n\")\n",
        "A[max_pos]=-1\n",
        "print(\"Vector after repalcing max value by -1 is \\n\")\n",
        "print(\"=========================================================================\\n\")\n",
        "print(A)"
      ],
      "execution_count": 12,
      "outputs": [
        {
          "output_type": "stream",
          "text": [
            "A random vector of size 15 is \n",
            "\n",
            "[0.40544603 0.8440403  0.13661304 0.62966488 0.5447298  0.2147684\n",
            " 0.79778589 0.09555905 0.85201912 0.98974887 0.91309505 0.33244501\n",
            " 0.79216983 0.78719228 0.97725787]\n",
            "=========================================================================\n",
            "\n",
            "Maximum value in vector is   0.989748868087872\n",
            "=========================================================================\n",
            "\n",
            "Vector after repalcing max value by -1 is \n",
            "\n",
            "=========================================================================\n",
            "\n",
            "[ 0.40544603  0.8440403   0.13661304  0.62966488  0.5447298   0.2147684\n",
            "  0.79778589  0.09555905  0.85201912 -1.          0.91309505  0.33244501\n",
            "  0.79216983  0.78719228  0.97725787]\n"
          ],
          "name": "stdout"
        }
      ]
    },
    {
      "cell_type": "markdown",
      "metadata": {
        "id": "CQFyodes1jUC"
      },
      "source": [
        "13) Write a NumPy program to sort a given array of shape 2 along the first axis, last axis and on a flattened array.    A=[[1,2],[11,12]]"
      ]
    },
    {
      "cell_type": "code",
      "metadata": {
        "colab": {
          "base_uri": "https://localhost:8080/"
        },
        "id": "LH0tXCoT1hUG",
        "outputId": "74cd7265-0c9f-4ca2-8988-af2f2aa11491"
      },
      "source": [
        "A=np.array([[1,2],\n",
        "            [11,12]])\n",
        "print(\"=====================================\\n\")\n",
        "print(\"Sordted along first axis:\\n\")\n",
        "print(np.sort(A,axis=0))\n",
        "print(\"=====================================\\n\")\n",
        "print(\"Sordted along last axis:\\n\")\n",
        "print(np.sort(A))\n",
        "print(\"=====================================\\n\")\n",
        "print(\"Sordted along first axis:\\n\")\n",
        "print(np.sort(A,axis=None))"
      ],
      "execution_count": 13,
      "outputs": [
        {
          "output_type": "stream",
          "text": [
            "=====================================\n",
            "\n",
            "Sordted along first axis:\n",
            "\n",
            "[[ 1  2]\n",
            " [11 12]]\n",
            "=====================================\n",
            "\n",
            "Sordted along last axis:\n",
            "\n",
            "[[ 1  2]\n",
            " [11 12]]\n",
            "=====================================\n",
            "\n",
            "Sordted along first axis:\n",
            "\n",
            "[ 1  2 11 12]\n"
          ],
          "name": "stdout"
        }
      ]
    },
    {
      "cell_type": "markdown",
      "metadata": {
        "id": "193b0fio6qdv"
      },
      "source": [
        "14) Write a NumPy program to sort the student id with increasing height of the students from given students id and height. Print the integer indices that describe the sort order by multiple columns and the sorted data.\n",
        "\n",
        "         id=[123,126,140,153]        height=[145,155,165,153]"
      ]
    },
    {
      "cell_type": "code",
      "metadata": {
        "colab": {
          "base_uri": "https://localhost:8080/"
        },
        "id": "mARwzEAc6np2",
        "outputId": "50626b1f-f59a-41d1-c99c-e2c883c82c56"
      },
      "source": [
        "id=np.array([123,126,140,153])\n",
        "height=np.array([145,155,165,153])\n",
        "i=np.lexsort((id,height))\n",
        "print(\"Data is sorted in followind order:\\n\")\n",
        "\n",
        "print(i)\n",
        "print(\"===========================================\\n\")\n",
        "print(\"IN sorted order:\\n\")\n",
        "print(\"===========================================\\n\")\n",
        "print(\"    ID                       Height\\n\")\n",
        "print(\"=============================================\\n\")\n",
        "for j in i:\n",
        "  print(\"\\n  \",id[j],\"                  \",height[j])"
      ],
      "execution_count": 14,
      "outputs": [
        {
          "output_type": "stream",
          "text": [
            "Data is sorted in followind order:\n",
            "\n",
            "[0 3 1 2]\n",
            "===========================================\n",
            "\n",
            "IN sorted order:\n",
            "\n",
            "===========================================\n",
            "\n",
            "    ID                       Height\n",
            "\n",
            "=============================================\n",
            "\n",
            "\n",
            "   123                    145\n",
            "\n",
            "   153                    153\n",
            "\n",
            "   126                    155\n",
            "\n",
            "   140                    165\n"
          ],
          "name": "stdout"
        }
      ]
    },
    {
      "cell_type": "markdown",
      "metadata": {
        "id": "JfJtSMN1ArOi"
      },
      "source": [
        "15) Write a NumPy program to get the indices of the sorted elements of a given array.\n",
        "X = [1023 5202 6230 1671 1682 5241 4532]\n"
      ]
    },
    {
      "cell_type": "code",
      "metadata": {
        "colab": {
          "base_uri": "https://localhost:8080/"
        },
        "id": "T3IbVApuAqhI",
        "outputId": "302ab39f-0ef0-4b8e-ec05-8b876a1addd8"
      },
      "source": [
        "X = np.array([1023, 5202, 6230, 1671, 1682, 5241, 4532])\n",
        "i=np.argsort(X)\n",
        "print(\"Indices of sorted elements in given array is \\n\")\n",
        "print(i)\n",
        "print(\"===============================\")\n",
        "print(\"Sorted array is\\n\")\n",
        "print(np.sort(X))"
      ],
      "execution_count": 15,
      "outputs": [
        {
          "output_type": "stream",
          "text": [
            "Indices of sorted elements in given array is \n",
            "\n",
            "[0 3 4 6 1 5 2]\n",
            "===============================\n",
            "Sorted array is\n",
            "\n",
            "[1023 1671 1682 4532 5202 5241 6230]\n"
          ],
          "name": "stdout"
        }
      ]
    },
    {
      "cell_type": "markdown",
      "metadata": {
        "id": "iwoS__ZvC--a"
      },
      "source": [
        "16) Write a NumPy program to sort a given complex array using the real part first, then the imaginary part.\n",
        "Y = [(1+2j), (3-1j), (3-2j), (4-3j), (3+5j)]\n"
      ]
    },
    {
      "cell_type": "code",
      "metadata": {
        "colab": {
          "base_uri": "https://localhost:8080/"
        },
        "id": "jxPRvED8CXnX",
        "outputId": "ac9caa78-e2cb-4818-d8db-a14688b8c622"
      },
      "source": [
        "Y =np.array([(1+2j), (3-1j), (3-2j), (4-3j), (3+5j)])\n",
        "print(\"Before sorting:\\n\")\n",
        "print(Y)\n",
        "print(\"====================\\n\")\n",
        "print(\"After sorting:\\n\")\n",
        "print(np.sort_complex(Y))\n"
      ],
      "execution_count": 16,
      "outputs": [
        {
          "output_type": "stream",
          "text": [
            "Before sorting:\n",
            "\n",
            "[1.+2.j 3.-1.j 3.-2.j 4.-3.j 3.+5.j]\n",
            "====================\n",
            "\n",
            "After sorting:\n",
            "\n",
            "[1.+2.j 3.-2.j 3.-1.j 3.+5.j 4.-3.j]\n"
          ],
          "name": "stdout"
        }
      ]
    },
    {
      "cell_type": "markdown",
      "metadata": {
        "id": "6vlPK4jQag6f"
      },
      "source": [
        "17)  Multiply AXB   \n",
        "\n",
        "\n",
        "        A=  [[1,2],[11,22],[12,15]]\n",
        "        B=[[1,2,3][11,12,13]]"
      ]
    },
    {
      "cell_type": "code",
      "metadata": {
        "colab": {
          "base_uri": "https://localhost:8080/"
        },
        "id": "YNrzeXxgHITR",
        "outputId": "cc81389d-6e6f-4f65-d6ba-69c42f906131"
      },
      "source": [
        "  A= np.array([ [1,2],\n",
        "                [11,22],\n",
        "                [12,15]])\n",
        "  B=np.array([[1,2,3],\n",
        "              [11,12,13]])\n",
        "  C=A.dot(B)\n",
        "print(\"AxB=\\r\")\n",
        "print(C)"
      ],
      "execution_count": 17,
      "outputs": [
        {
          "output_type": "stream",
          "text": [
            "AxB=\r\n",
            "[[ 23  26  29]\n",
            " [253 286 319]\n",
            " [177 204 231]]\n"
          ],
          "name": "stdout"
        }
      ]
    },
    {
      "cell_type": "markdown",
      "metadata": {
        "id": "H5qwZetwdvaM"
      },
      "source": [
        "18) Write a NumPy program to compute e^x, element-wise of a given array.\n",
        "A = [1,5,6,9]\n"
      ]
    },
    {
      "cell_type": "code",
      "metadata": {
        "colab": {
          "base_uri": "https://localhost:8080/"
        },
        "id": "7-iIL4bvduA0",
        "outputId": "efae4e05-d892-4432-c0ed-febed3e9d456"
      },
      "source": [
        "A=np.array([1,5,6,9])\n",
        "print(\"Element-wise e^x of given array A is:\")\n",
        "print(np.exp(A))"
      ],
      "execution_count": 18,
      "outputs": [
        {
          "output_type": "stream",
          "text": [
            "Element-wise e^x of given array A is:\n",
            "[2.71828183e+00 1.48413159e+02 4.03428793e+02 8.10308393e+03]\n"
          ],
          "name": "stdout"
        }
      ]
    },
    {
      "cell_type": "markdown",
      "metadata": {
        "id": "TNsCZ6dVfPqy"
      },
      "source": [
        "19) Write a NumPy program to compute natural, base 10, and base 2 logarithms for all elements in a given array.\n",
        "A = [1,2.5,56,19]\n"
      ]
    },
    {
      "cell_type": "code",
      "metadata": {
        "colab": {
          "base_uri": "https://localhost:8080/"
        },
        "id": "Jc5C1MujfO4Y",
        "outputId": "1fc0ae81-86f0-4d4d-c777-c20e253c41fc"
      },
      "source": [
        "A=np.array([1,2.5,56,19])\n",
        "print(\"\\nNatural logarithms for all elements in a given array:\\n\")\n",
        "print(\"===========================================================\\n\")\n",
        "print(np.log(A))\n",
        "print(\"\\nBase 10 logarithms for all elements in a given array:\\n\")\n",
        "print(\"===========================================================\\n\")\n",
        "print(np.log10(A))\n",
        "print(\"\\nNatural logarithms for all elements in a given array:\\n\")\n",
        "print(\"===========================================================\\n\")\n",
        "print(np.log2(A))"
      ],
      "execution_count": 19,
      "outputs": [
        {
          "output_type": "stream",
          "text": [
            "\n",
            "Natural logarithms for all elements in a given array:\n",
            "\n",
            "===========================================================\n",
            "\n",
            "[0.         0.91629073 4.02535169 2.94443898]\n",
            "\n",
            "Base 10 logarithms for all elements in a given array:\n",
            "\n",
            "===========================================================\n",
            "\n",
            "[0.         0.39794001 1.74818803 1.2787536 ]\n",
            "\n",
            "Natural logarithms for all elements in a given array:\n",
            "\n",
            "===========================================================\n",
            "\n",
            "[0.         1.32192809 5.80735492 4.24792751]\n"
          ],
          "name": "stdout"
        }
      ]
    },
    {
      "cell_type": "markdown",
      "metadata": {
        "id": "mMbwI6OPglyR"
      },
      "source": [
        "20) Write a NumPy program to calculate the difference between the maximum and the minimum values of a given array along the second axis.\n",
        "A = [[ 0 1 2 3 4 5]\n",
        "[ 6 7 8 9 10 11]]\n"
      ]
    },
    {
      "cell_type": "code",
      "metadata": {
        "colab": {
          "base_uri": "https://localhost:8080/"
        },
        "id": "vvkKbulcgkq6",
        "outputId": "b85c5bb7-0208-41b7-f435-8d461b823143"
      },
      "source": [
        "A=np.array([[0,1,2,3,4,5],\n",
        "            [6,7,8,9,10,11]])\n",
        "max=np.amax(A,axis=1)\n",
        "min=np.amin(A,axis=1)\n",
        "print(\"difference between the maximum and the minimum values of a given array along the second axis\\n\")\n",
        "print(max-min)"
      ],
      "execution_count": 20,
      "outputs": [
        {
          "output_type": "stream",
          "text": [
            "difference between the maximum and the minimum values of a given array along the second axis\n",
            "\n",
            "[5 5]\n"
          ],
          "name": "stdout"
        }
      ]
    },
    {
      "cell_type": "markdown",
      "metadata": {
        "id": "YmS5Fcn4m228"
      },
      "source": [
        "21) Write a NumPy program to compute the median of a flattened given array.\n",
        "B =[[ 0 1 2 3 4 5]\n",
        "[ 6 7 8 9 10 11]]\n"
      ]
    },
    {
      "cell_type": "code",
      "metadata": {
        "colab": {
          "base_uri": "https://localhost:8080/"
        },
        "id": "KYquK9C6m1Yy",
        "outputId": "012ff343-89e1-4168-c94e-8e7d1e622600"
      },
      "source": [
        "B=np.array([[0,1,2,3,4,5],\n",
        "            [6,7,8,9,10,11]])\n",
        "print(\"Median of flattened goven array is \")\n",
        "print(np.median(B,axis=None))"
      ],
      "execution_count": 21,
      "outputs": [
        {
          "output_type": "stream",
          "text": [
            "Median of flattened goven array is \n",
            "5.5\n"
          ],
          "name": "stdout"
        }
      ]
    },
    {
      "cell_type": "markdown",
      "metadata": {
        "id": "DQiOo7tJnYiw"
      },
      "source": [
        "22) Write a NumPy program to compute cross-correlation of two given arrays.\n",
        "\n",
        "A = [0 1 3]\n",
        "B = [2 4 5]\n"
      ]
    },
    {
      "cell_type": "code",
      "metadata": {
        "colab": {
          "base_uri": "https://localhost:8080/"
        },
        "id": "leJgygfmnXLz",
        "outputId": "189e1192-886d-416e-a13e-81f2d09d27fd"
      },
      "source": [
        "A=np.array([0,1,3])\n",
        "B=np.array([2,4,5])\n",
        "print(\" cross-correlation of two given arrays is\")\n",
        "print(np.cov(A,B))"
      ],
      "execution_count": 22,
      "outputs": [
        {
          "output_type": "stream",
          "text": [
            " cross-correlation of two given arrays is\n",
            "[[2.33333333 2.16666667]\n",
            " [2.16666667 2.33333333]]\n"
          ],
          "name": "stdout"
        }
      ]
    },
    {
      "cell_type": "markdown",
      "metadata": {
        "id": "hKvPPVXJoAVQ"
      },
      "source": [
        "23) Write a Python program to count the number of occurrences of each value in a given array of non-negative integers.\n",
        "A = [0, 1, 6, 1, 4, 1, 2, 2, 7]\n"
      ]
    },
    {
      "cell_type": "code",
      "metadata": {
        "colab": {
          "base_uri": "https://localhost:8080/"
        },
        "id": "yAv8nsrNn99g",
        "outputId": "86138abf-f521-4962-8c0e-e4b2bb82a9d5"
      },
      "source": [
        " A = np.array([0, 1, 6, 1, 4, 1, 2, 2, 7])\n",
        " count=np.bincount(A)\n",
        " print(\" number of occurrences of each value in a given array of non-negative integers is:\\n\")\n",
        " print(\"=========================================================================================\\n\")\n",
        " print(\"   number       occurrence-count\\n\")\n",
        " print(\"-----------------------------------\")\n",
        " for i in A:\n",
        "   print(\"    \",A[i],\"              \",count[i])\n",
        "   print(\"-----------------------------------\")"
      ],
      "execution_count": 23,
      "outputs": [
        {
          "output_type": "stream",
          "text": [
            " number of occurrences of each value in a given array of non-negative integers is:\n",
            "\n",
            "=========================================================================================\n",
            "\n",
            "   number       occurrence-count\n",
            "\n",
            "-----------------------------------\n",
            "     0                1\n",
            "-----------------------------------\n",
            "     1                3\n",
            "-----------------------------------\n",
            "     2                1\n",
            "-----------------------------------\n",
            "     1                3\n",
            "-----------------------------------\n",
            "     4                1\n",
            "-----------------------------------\n",
            "     1                3\n",
            "-----------------------------------\n",
            "     6                2\n",
            "-----------------------------------\n",
            "     6                2\n",
            "-----------------------------------\n",
            "     2                1\n",
            "-----------------------------------\n"
          ],
          "name": "stdout"
        }
      ]
    },
    {
      "cell_type": "markdown",
      "metadata": {
        "id": "6_J1EtPYqS3G"
      },
      "source": [
        "24) Write a NumPy program to display all the dates for the month of May, 2021."
      ]
    },
    {
      "cell_type": "code",
      "metadata": {
        "colab": {
          "base_uri": "https://localhost:8080/"
        },
        "id": "8_dV6UkzqQ91",
        "outputId": "da10441b-f654-4ed2-b5a6-76970ee9101b"
      },
      "source": [
        "print(\"                            May, 2021\")\n",
        "print(\"=================================================================\")\n",
        "print(np.arange('2017-05', '2017-06', dtype='datetime64[D]'))\n",
        "print(\"=================================================================\")"
      ],
      "execution_count": 24,
      "outputs": [
        {
          "output_type": "stream",
          "text": [
            "                            May, 2021\n",
            "=================================================================\n",
            "['2017-05-01' '2017-05-02' '2017-05-03' '2017-05-04' '2017-05-05'\n",
            " '2017-05-06' '2017-05-07' '2017-05-08' '2017-05-09' '2017-05-10'\n",
            " '2017-05-11' '2017-05-12' '2017-05-13' '2017-05-14' '2017-05-15'\n",
            " '2017-05-16' '2017-05-17' '2017-05-18' '2017-05-19' '2017-05-20'\n",
            " '2017-05-21' '2017-05-22' '2017-05-23' '2017-05-24' '2017-05-25'\n",
            " '2017-05-26' '2017-05-27' '2017-05-28' '2017-05-29' '2017-05-30'\n",
            " '2017-05-31']\n",
            "=================================================================\n"
          ],
          "name": "stdout"
        }
      ]
    },
    {
      "cell_type": "markdown",
      "metadata": {
        "id": "sIzSW__StTKa"
      },
      "source": [
        "25) Write a NumPy program to concatenate element-wise two arrays of string.\n",
        "A = ['Python' 'PHP']\n",
        "B = [' Java' ' C++']\n"
      ]
    },
    {
      "cell_type": "code",
      "metadata": {
        "colab": {
          "base_uri": "https://localhost:8080/"
        },
        "id": "QuPpan_zs91t",
        "outputId": "1196b495-e19d-4723-ae7b-861dcd23da93"
      },
      "source": [
        "A = np.array(['Python', 'PHP'])\n",
        "B = np.array([' Java' ,' C++'])\n",
        "print(np.char.add(A,B))"
      ],
      "execution_count": 25,
      "outputs": [
        {
          "output_type": "stream",
          "text": [
            "['Python Java' 'PHP C++']\n"
          ],
          "name": "stdout"
        }
      ]
    }
  ]
}